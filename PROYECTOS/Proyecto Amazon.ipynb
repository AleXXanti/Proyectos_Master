{
 "cells": [
  {
   "cell_type": "markdown",
   "metadata": {},
   "source": [
    "<img src=\"https://www.mbitschool.com/wp-content/uploads/2020/08/LOGO.png\" alt=\"MarineGEO circle logo\" style=\"width:100px;\"/>\n",
    "\n",
    "# MBIT School\n",
    "\n",
    "## Máster Online en Data Science\n",
    "\n",
    "---\n",
    "\n",
    "## Apache Spark: Análisis de datos en Big Data\n",
    "\n",
    "---\n",
    "\n",
    "#### Pedro Gómez (pegomez.lopez@mbitschool.com)\n",
    "\n",
    "---"
   ]
  },
  {
   "cell_type": "markdown",
   "metadata": {},
   "source": [
    "---\n",
    "\n",
    "##  Proyecto de consolidación - Dataset Amazon Reviews\n",
    "\n",
    "En la siguiente URL podemos encontrar un dataset público de amazon que contiene una gran cantidad de reviews generadas a lo largo de los años.\n",
    "\n",
    "El dataset se encuentra almacenado en un bucket público y podemos consumirlo desde nuestros nodos de EMR\n",
    "\n",
    "https://s3.amazonaws.com/amazon-reviews-pds/readme.html"
   ]
  },
  {
   "cell_type": "markdown",
   "metadata": {
    "execution": {
     "iopub.execute_input": "2022-04-07T14:09:47.818268Z",
     "iopub.status.busy": "2022-04-07T14:09:47.817991Z"
    }
   },
   "source": [
    "<div style=\"text-align: center\">\n",
    "<h1><font color=\"black\" size=8>PROYECTO DE CONSOLIDACIÓN</font></h1>"
   ]
  },
  {
   "cell_type": "markdown",
   "metadata": {},
   "source": [
    "<div style=\"text-align: left\">\n",
    "<h1><font color=\"#009D7F\" size=5>Alejandro Santiago Bitria</font></h1>"
   ]
  },
  {
   "cell_type": "markdown",
   "metadata": {},
   "source": [
    "## Ejercicios: Responde a las siguientes preguntas usando Spark"
   ]
  },
  {
   "cell_type": "code",
   "execution_count": 1,
   "metadata": {
    "execution": {
     "iopub.execute_input": "2022-04-19T18:17:46.657768Z",
     "iopub.status.busy": "2022-04-19T18:17:46.657503Z",
     "iopub.status.idle": "2022-04-19T18:18:35.290648Z",
     "shell.execute_reply": "2022-04-19T18:18:35.289517Z",
     "shell.execute_reply.started": "2022-04-19T18:17:46.657737Z"
    },
    "tags": []
   },
   "outputs": [
    {
     "data": {
      "application/vnd.jupyter.widget-view+json": {
       "model_id": "5957894ae43f44f787b246cd6ef14ddc",
       "version_major": 2,
       "version_minor": 0
      },
      "text/plain": [
       "VBox()"
      ]
     },
     "metadata": {},
     "output_type": "display_data"
    },
    {
     "name": "stdout",
     "output_type": "stream",
     "text": [
      "Starting Spark application\n"
     ]
    },
    {
     "data": {
      "text/html": [
       "<table>\n",
       "<tr><th>ID</th><th>YARN Application ID</th><th>Kind</th><th>State</th><th>Spark UI</th><th>Driver log</th><th>Current session?</th></tr><tr><td>0</td><td>application_1650391259875_0001</td><td>pyspark</td><td>idle</td><td><a target=\"_blank\" href=\"http://ip-172-31-55-241.ec2.internal:20888/proxy/application_1650391259875_0001/\" class=\"emr-proxy-link\" emr-resource=\"j-E46XE8YON8UN\n",
       "\" application-id=\"application_1650391259875_0001\">Link</a></td><td><a target=\"_blank\" href=\"http://ip-172-31-59-72.ec2.internal:8042/node/containerlogs/container_1650391259875_0001_01_000001/livy\" >Link</a></td><td>✔</td></tr></table>"
      ],
      "text/plain": [
       "<IPython.core.display.HTML object>"
      ]
     },
     "metadata": {},
     "output_type": "display_data"
    },
    {
     "data": {
      "application/vnd.jupyter.widget-view+json": {
       "model_id": "",
       "version_major": 2,
       "version_minor": 0
      },
      "text/plain": [
       "FloatProgress(value=0.0, bar_style='info', description='Progress:', layout=Layout(height='25px', width='50%'),…"
      ]
     },
     "metadata": {},
     "output_type": "display_data"
    },
    {
     "name": "stdout",
     "output_type": "stream",
     "text": [
      "SparkSession available as 'spark'.\n"
     ]
    },
    {
     "data": {
      "application/vnd.jupyter.widget-view+json": {
       "model_id": "",
       "version_major": 2,
       "version_minor": 0
      },
      "text/plain": [
       "FloatProgress(value=0.0, bar_style='info', description='Progress:', layout=Layout(height='25px', width='50%'),…"
      ]
     },
     "metadata": {},
     "output_type": "display_data"
    },
    {
     "name": "stdout",
     "output_type": "stream",
     "text": [
      "<pyspark.sql.session.SparkSession object at 0x7ff753992150>"
     ]
    }
   ],
   "source": [
    "# Iniciamos la sesión de Spark\n",
    "spark"
   ]
  },
  {
   "cell_type": "markdown",
   "metadata": {},
   "source": [
    "### Cargamos las librerías"
   ]
  },
  {
   "cell_type": "markdown",
   "metadata": {},
   "source": [
    "Antes de nada, procedo a cargar todas las librerias necesarias para este Proyecto."
   ]
  },
  {
   "cell_type": "code",
   "execution_count": 26,
   "metadata": {
    "execution": {
     "iopub.execute_input": "2022-04-19T19:13:05.573882Z",
     "iopub.status.busy": "2022-04-19T19:13:05.573591Z",
     "iopub.status.idle": "2022-04-19T19:13:05.642552Z",
     "shell.execute_reply": "2022-04-19T19:13:05.641781Z",
     "shell.execute_reply.started": "2022-04-19T19:13:05.573851Z"
    },
    "tags": []
   },
   "outputs": [
    {
     "data": {
      "application/vnd.jupyter.widget-view+json": {
       "model_id": "3f21f02895a5418ba45c036bcc5e03b2",
       "version_major": 2,
       "version_minor": 0
      },
      "text/plain": [
       "VBox()"
      ]
     },
     "metadata": {},
     "output_type": "display_data"
    },
    {
     "data": {
      "application/vnd.jupyter.widget-view+json": {
       "model_id": "",
       "version_major": 2,
       "version_minor": 0
      },
      "text/plain": [
       "FloatProgress(value=0.0, bar_style='info', description='Progress:', layout=Layout(height='25px', width='50%'),…"
      ]
     },
     "metadata": {},
     "output_type": "display_data"
    }
   ],
   "source": [
    "import pyspark.sql.functions as f\n",
    "from pyspark.sql.types import IntegerType\n",
    "from pyspark.sql.types import BooleanType\n",
    "from pyspark.sql.functions import isnan, when, count, col\n",
    "from pyspark.sql.functions import split, size\n",
    "from pyspark.sql.functions import col, count, avg, sum, round, mean, max, min\n",
    "from pyspark.sql.functions import year, month"
   ]
  },
  {
   "cell_type": "markdown",
   "metadata": {
    "tags": []
   },
   "source": [
    "### Carga del dataset y primeros checks\n",
    "\n",
    "Cargar desde amazon S3 el dataset en su version parquet y verificar el esquema, muestra también las primeras filas del mismo"
   ]
  },
  {
   "cell_type": "code",
   "execution_count": 3,
   "metadata": {
    "execution": {
     "iopub.execute_input": "2022-04-19T18:18:35.620948Z",
     "iopub.status.busy": "2022-04-19T18:18:35.620687Z",
     "iopub.status.idle": "2022-04-19T18:18:45.023585Z",
     "shell.execute_reply": "2022-04-19T18:18:45.022856Z",
     "shell.execute_reply.started": "2022-04-19T18:18:35.620893Z"
    },
    "tags": []
   },
   "outputs": [
    {
     "data": {
      "application/vnd.jupyter.widget-view+json": {
       "model_id": "65668ca9f43347108e3fec1cc9c337a4",
       "version_major": 2,
       "version_minor": 0
      },
      "text/plain": [
       "VBox()"
      ]
     },
     "metadata": {},
     "output_type": "display_data"
    },
    {
     "data": {
      "application/vnd.jupyter.widget-view+json": {
       "model_id": "",
       "version_major": 2,
       "version_minor": 0
      },
      "text/plain": [
       "FloatProgress(value=0.0, bar_style='info', description='Progress:', layout=Layout(height='25px', width='50%'),…"
      ]
     },
     "metadata": {},
     "output_type": "display_data"
    }
   ],
   "source": [
    "df_amazon = (spark.read.option(\"inferSchema\", True).load(\"s3://amazon-reviews-pds/parquet/\"))"
   ]
  },
  {
   "cell_type": "code",
   "execution_count": 4,
   "metadata": {
    "execution": {
     "iopub.execute_input": "2022-04-19T18:18:45.025169Z",
     "iopub.status.busy": "2022-04-19T18:18:45.024944Z",
     "iopub.status.idle": "2022-04-19T18:18:52.388031Z",
     "shell.execute_reply": "2022-04-19T18:18:52.387061Z",
     "shell.execute_reply.started": "2022-04-19T18:18:45.025140Z"
    },
    "tags": []
   },
   "outputs": [
    {
     "data": {
      "application/vnd.jupyter.widget-view+json": {
       "model_id": "283b4292a3f24a0a997f11401f49d96e",
       "version_major": 2,
       "version_minor": 0
      },
      "text/plain": [
       "VBox()"
      ]
     },
     "metadata": {},
     "output_type": "display_data"
    },
    {
     "data": {
      "application/vnd.jupyter.widget-view+json": {
       "model_id": "",
       "version_major": 2,
       "version_minor": 0
      },
      "text/plain": [
       "FloatProgress(value=0.0, bar_style='info', description='Progress:', layout=Layout(height='25px', width='50%'),…"
      ]
     },
     "metadata": {},
     "output_type": "display_data"
    },
    {
     "name": "stdout",
     "output_type": "stream",
     "text": [
      "+-----------+-----------+--------------+----------+--------------+--------------------+-----------+-------------+-----------+----+-----------------+--------------------+--------------------+-----------+----+----------------+\n",
      "|marketplace|customer_id|     review_id|product_id|product_parent|       product_title|star_rating|helpful_votes|total_votes|vine|verified_purchase|     review_headline|         review_body|review_date|year|product_category|\n",
      "+-----------+-----------+--------------+----------+--------------+--------------------+-----------+-------------+-----------+----+-----------------+--------------------+--------------------+-----------+----+----------------+\n",
      "|         US|   15444933|R1WWG70WK9VUCH|1848192576|     835940987|Standing Qigong f...|          5|            9|         10|   N|                Y|Informative AND i...|After attending a...| 2015-05-02|2015|           Books|\n",
      "|         US|   20595117|R1EQ3POS0RIOD5|145162445X|     574044348|A Universe from N...|          4|            4|          7|   N|                N|Between 'Nothing'...|Krauss traces the...| 2012-06-29|2012|           Books|\n",
      "|         US|   52925878|R10SRJA4VVGUBD|055341805X|     846590203|Hyacinth Girls: A...|          4|            0|          0|   Y|                N|Mysteries upon my...|Rebecca, a dental...| 2015-05-02|2015|           Books|\n",
      "|         US|   40062567| RD3268X41GM7U|0425263908|     119148606|        Bared to You|          5|            1|          1|   N|                N|\"RAW, STEAMY, HYP...|\\\\\"BARED TO YOU\\\\...| 2012-06-29|2012|           Books|\n",
      "|         US|   47221489|R3KGQL5X5BSJE1|1416556141|     987400385|     Healer: A Novel|          5|            0|          0|   N|                Y|  Well written story|Good characters a...| 2015-05-02|2015|           Books|\n",
      "|         US|   20709973|R3IY9A2Z7N2R49|1455523003|     181218559|The Missionary Po...|          4|            5|          7|   N|                Y|Eye opening, yet ...|This book was fas...| 2012-06-29|2012|           Books|\n",
      "|         US|   18052694|R12PGYPH9B9UVJ|0990388697|     840404589|I'm Tired of Bein...|          4|            1|          1|   N|                Y|                 JOY|A personal world ...| 2015-05-02|2015|           Books|\n",
      "|         US|   48279565|R2CA9LLJBEORNZ|0345803485|     600633062|Fifty Shades of G...|          1|            7|          7|   N|                N|This book is Twil...|I bought this boo...| 2012-06-29|2012|           Books|\n",
      "|         US|   14297627|R2C8BZMS1JRZ04|1469245167|     466321651|The Thrill of Vic...|          4|            0|          0|   N|                Y|          Four Stars|Sandra Brown is a...| 2015-05-02|2015|           Books|\n",
      "|         US|   37340439|R2F8UI9NNP6S33|0345803485|     600633062|Fifty Shades of G...|          5|            0|          9|   N|                N|Fifty shades of grey|Loved this book! ...| 2012-06-29|2012|           Books|\n",
      "|         US|   35122979|R18L06ZV927ZS0|0743477111|      43217624|Romeo and Juliet ...|          4|            0|          0|   N|                Y|Good text, but ed...|The text and comm...| 2015-05-02|2015|           Books|\n",
      "|         US|   11213632|R32NFRKUPJ3E4J|1609611543|     657488375|Wheat Belly: Lose...|          5|            1|          1|   N|                Y|         Wheat belly|This is an excell...| 2012-06-29|2012|           Books|\n",
      "|         US|   15816241|R1ZQ0M1HIMV8T9|0563551933|     412573914|Dangerous Dessert...|          5|            0|          0|   N|                Y|          Five Stars|Book in great con...| 2015-05-02|2015|           Books|\n",
      "|         US|   36748944| RKEHECW1IR9DT|0061777269|      84797790|Consciousness Bey...|          5|            0|          0|   N|                N|More evidence of ...|Consciousness Bey...| 2012-06-29|2012|           Books|\n",
      "|         US|   38261190|R3HKUZRLPR36SW|0316769487|     862964341|The Catcher in th...|          1|            1|          6|   N|                Y|Some people rave ...|This book seems t...| 2015-05-02|2015|           Books|\n",
      "|         US|   44704475|R36X05VUTXCEJQ|0307730697|      62706984|Fearless: The Und...|          4|            0|          0|   N|                Y|    American courage|For those who thi...| 2012-06-29|2012|           Books|\n",
      "|         US|   38351306|R257VQLC12S8IJ|0448439158|      27871958|Best-Ever Big Sister|          5|            0|          0|   N|                Y|My 1. 5-2yr old l...|My 1.5-2yr old lo...| 2015-05-02|2015|           Books|\n",
      "|         US|   49320969|R1DA0O932TXFV7|0375842209|      47504452|      The Book Thief|          5|            1|          1|   N|                N|Many Years Later,...|This is a book th...| 2012-06-29|2012|           Books|\n",
      "|         US|   21239776| RAF45VHW4W7HU|1402773536|     615203301|  Large Print Sudoku|          5|            1|          1|   N|                Y|          Five Stars|like the big prin...| 2015-05-02|2015|           Books|\n",
      "|         US|   39150739|R1YBB6HXVCZ8AR|0307592731|     576844294|Wild: From Lost t...|          5|            1|          1|   N|                N| A True Page-Turner!|I absolutely love...| 2012-06-29|2012|           Books|\n",
      "+-----------+-----------+--------------+----------+--------------+--------------------+-----------+-------------+-----------+----+-----------------+--------------------+--------------------+-----------+----+----------------+\n",
      "only showing top 20 rows"
     ]
    }
   ],
   "source": [
    "df_amazon.show()"
   ]
  },
  {
   "cell_type": "markdown",
   "metadata": {},
   "source": [
    "### Pregunta 1: ¿Hay algo en el esquema que llame tu atención? ¿Realizarías alguna modificación?"
   ]
  },
  {
   "cell_type": "markdown",
   "metadata": {
    "execution": {
     "iopub.execute_input": "2022-04-08T22:38:35.033513Z",
     "iopub.status.busy": "2022-04-08T22:38:35.033237Z",
     "iopub.status.idle": "2022-04-08T22:38:35.106384Z",
     "shell.execute_reply": "2022-04-08T22:38:35.105352Z",
     "shell.execute_reply.started": "2022-04-08T22:38:35.033480Z"
    }
   },
   "source": [
    "Lo primero que comprobamos es si tiene valores nulos."
   ]
  },
  {
   "cell_type": "code",
   "execution_count": 46,
   "metadata": {
    "execution": {
     "iopub.execute_input": "2022-04-08T22:39:29.995884Z",
     "iopub.status.busy": "2022-04-08T22:39:29.995624Z",
     "iopub.status.idle": "2022-04-08T22:44:24.466171Z",
     "shell.execute_reply": "2022-04-08T22:44:24.465229Z",
     "shell.execute_reply.started": "2022-04-08T22:39:29.995853Z"
    }
   },
   "outputs": [
    {
     "data": {
      "application/vnd.jupyter.widget-view+json": {
       "model_id": "9965dda440be4b3381a631a4985167f3",
       "version_major": 2,
       "version_minor": 0
      },
      "text/plain": [
       "VBox()"
      ]
     },
     "metadata": {},
     "output_type": "display_data"
    },
    {
     "data": {
      "application/vnd.jupyter.widget-view+json": {
       "model_id": "",
       "version_major": 2,
       "version_minor": 0
      },
      "text/plain": [
       "FloatProgress(value=0.0, bar_style='info', description='Progress:', layout=Layout(height='25px', width='50%'),…"
      ]
     },
     "metadata": {},
     "output_type": "display_data"
    },
    {
     "name": "stdout",
     "output_type": "stream",
     "text": [
      "+-----------+-----------+---------+----------+--------------+-------------+-----------+-------------+-----------+----+-----------------+---------------+-----------+-----------+----+----------------+\n",
      "|marketplace|customer_id|review_id|product_id|product_parent|product_title|star_rating|helpful_votes|total_votes|vine|verified_purchase|review_headline|review_body|review_date|year|product_category|\n",
      "+-----------+-----------+---------+----------+--------------+-------------+-----------+-------------+-----------+----+-----------------+---------------+-----------+-----------+----+----------------+\n",
      "|          0|          0|        0|         0|             0|            0|          0|            0|          0|   0|                0|            320|       6798|          0|   0|               0|\n",
      "+-----------+-----------+---------+----------+--------------+-------------+-----------+-------------+-----------+----+-----------------+---------------+-----------+-----------+----+----------------+"
     ]
    }
   ],
   "source": [
    "df_amazon.select([count(when(col(c).isNull(), c)).alias(c) for c in df_amazon.columns]).show()"
   ]
  },
  {
   "cell_type": "markdown",
   "metadata": {},
   "source": [
    "Parece ser que hay valores nulos en `review_headline` y en `review_body`. Para comprobar si es necesario eliminarlas o si su volumen no es mucho en comparación al total vamos a sacar los respectivos porcentajes de valores nulos."
   ]
  },
  {
   "cell_type": "code",
   "execution_count": 22,
   "metadata": {
    "execution": {
     "iopub.execute_input": "2022-04-09T00:40:27.782560Z",
     "iopub.status.busy": "2022-04-09T00:40:27.782257Z",
     "iopub.status.idle": "2022-04-09T00:40:51.193677Z",
     "shell.execute_reply": "2022-04-09T00:40:51.192672Z",
     "shell.execute_reply.started": "2022-04-09T00:40:27.782526Z"
    },
    "tags": []
   },
   "outputs": [
    {
     "data": {
      "application/vnd.jupyter.widget-view+json": {
       "model_id": "69eb61e964bc4388af15253382e20305",
       "version_major": 2,
       "version_minor": 0
      },
      "text/plain": [
       "VBox()"
      ]
     },
     "metadata": {},
     "output_type": "display_data"
    },
    {
     "data": {
      "application/vnd.jupyter.widget-view+json": {
       "model_id": "",
       "version_major": 2,
       "version_minor": 0
      },
      "text/plain": [
       "FloatProgress(value=0.0, bar_style='info', description='Progress:', layout=Layout(height='25px', width='50%'),…"
      ]
     },
     "metadata": {},
     "output_type": "display_data"
    },
    {
     "name": "stdout",
     "output_type": "stream",
     "text": [
      "0.00019900922015936035"
     ]
    }
   ],
   "source": [
    "# Porcentaje de review_headline\n",
    "\n",
    "percentage_null_review_headline = (df_amazon.filter(\"review_headline is null\").count()/df_amazon.count()*100)\n",
    "percentage_null_review_headline"
   ]
  },
  {
   "cell_type": "code",
   "execution_count": 7,
   "metadata": {
    "execution": {
     "iopub.execute_input": "2022-04-08T23:23:12.253209Z",
     "iopub.status.busy": "2022-04-08T23:23:12.252968Z",
     "iopub.status.idle": "2022-04-08T23:23:17.565675Z",
     "shell.execute_reply": "2022-04-08T23:23:17.564621Z",
     "shell.execute_reply.started": "2022-04-08T23:23:12.253178Z"
    },
    "tags": []
   },
   "outputs": [
    {
     "data": {
      "application/vnd.jupyter.widget-view+json": {
       "model_id": "95ef5c7d3ac34484b5f679e946297cb4",
       "version_major": 2,
       "version_minor": 0
      },
      "text/plain": [
       "VBox()"
      ]
     },
     "metadata": {},
     "output_type": "display_data"
    },
    {
     "data": {
      "application/vnd.jupyter.widget-view+json": {
       "model_id": "",
       "version_major": 2,
       "version_minor": 0
      },
      "text/plain": [
       "FloatProgress(value=0.0, bar_style='info', description='Progress:', layout=Layout(height='25px', width='50%'),…"
      ]
     },
     "metadata": {},
     "output_type": "display_data"
    },
    {
     "name": "stdout",
     "output_type": "stream",
     "text": [
      "0.004227702120760412"
     ]
    }
   ],
   "source": [
    "# Porcentaje de review_body\n",
    "\n",
    "percentage_null_review_body = (df_amazon.filter(\"review_body is null\").count()/df_amazon.count()*100)\n",
    "percentage_null_review_body"
   ]
  },
  {
   "cell_type": "markdown",
   "metadata": {},
   "source": [
    "Ninguno de estos porcentajes **siquiera llega al 0,01%** por lo que podemos eliminarlos sin que se pierda apenas información de este dataset."
   ]
  },
  {
   "cell_type": "code",
   "execution_count": 5,
   "metadata": {
    "execution": {
     "iopub.execute_input": "2022-04-19T18:18:52.389822Z",
     "iopub.status.busy": "2022-04-19T18:18:52.389502Z",
     "iopub.status.idle": "2022-04-19T18:18:52.697591Z",
     "shell.execute_reply": "2022-04-19T18:18:52.696879Z",
     "shell.execute_reply.started": "2022-04-19T18:18:52.389776Z"
    },
    "tags": []
   },
   "outputs": [
    {
     "data": {
      "application/vnd.jupyter.widget-view+json": {
       "model_id": "561ee45587ec492e837690e6a6c19e32",
       "version_major": 2,
       "version_minor": 0
      },
      "text/plain": [
       "VBox()"
      ]
     },
     "metadata": {},
     "output_type": "display_data"
    },
    {
     "data": {
      "application/vnd.jupyter.widget-view+json": {
       "model_id": "",
       "version_major": 2,
       "version_minor": 0
      },
      "text/plain": [
       "FloatProgress(value=0.0, bar_style='info', description='Progress:', layout=Layout(height='25px', width='50%'),…"
      ]
     },
     "metadata": {},
     "output_type": "display_data"
    }
   ],
   "source": [
    "# Eliminamos cualquier valor nulo del dataset\n",
    "\n",
    "df_amazon_clean = df_amazon.na.drop(\"any\")"
   ]
  },
  {
   "cell_type": "code",
   "execution_count": 5,
   "metadata": {
    "execution": {
     "iopub.execute_input": "2022-04-08T23:16:01.783267Z",
     "iopub.status.busy": "2022-04-08T23:16:01.782746Z",
     "iopub.status.idle": "2022-04-08T23:20:52.196411Z",
     "shell.execute_reply": "2022-04-08T23:20:52.195399Z",
     "shell.execute_reply.started": "2022-04-08T23:16:01.783216Z"
    },
    "tags": []
   },
   "outputs": [
    {
     "data": {
      "application/vnd.jupyter.widget-view+json": {
       "model_id": "22f28637762f4fe8a10174d3544a6652",
       "version_major": 2,
       "version_minor": 0
      },
      "text/plain": [
       "VBox()"
      ]
     },
     "metadata": {},
     "output_type": "display_data"
    },
    {
     "data": {
      "application/vnd.jupyter.widget-view+json": {
       "model_id": "",
       "version_major": 2,
       "version_minor": 0
      },
      "text/plain": [
       "FloatProgress(value=0.0, bar_style='info', description='Progress:', layout=Layout(height='25px', width='50%'),…"
      ]
     },
     "metadata": {},
     "output_type": "display_data"
    },
    {
     "name": "stdout",
     "output_type": "stream",
     "text": [
      "+-----------+-----------+---------+----------+--------------+-------------+-----------+-------------+-----------+----+-----------------+---------------+-----------+-----------+----+----------------+\n",
      "|marketplace|customer_id|review_id|product_id|product_parent|product_title|star_rating|helpful_votes|total_votes|vine|verified_purchase|review_headline|review_body|review_date|year|product_category|\n",
      "+-----------+-----------+---------+----------+--------------+-------------+-----------+-------------+-----------+----+-----------------+---------------+-----------+-----------+----+----------------+\n",
      "|          0|          0|        0|         0|             0|            0|          0|            0|          0|   0|                0|              0|          0|          0|   0|               0|\n",
      "+-----------+-----------+---------+----------+--------------+-------------+-----------+-------------+-----------+----+-----------------+---------------+-----------+-----------+----+----------------+"
     ]
    }
   ],
   "source": [
    "# Comprobamos que efectivamente no existen valores nulos\n",
    "\n",
    "df_amazon_clean.select([count(when(col(c).isNull(), c)).alias(c) for c in df_amazon_clean.columns]).show()"
   ]
  },
  {
   "cell_type": "markdown",
   "metadata": {},
   "source": [
    "No se va hacer ninguna revisión de **outliers** pues carece de sentido con la información de este dataset. Sólo cabría en `star_rating` si no oscilan los valores entre 1 y 5 pero se va a comprobar posteriormente con el describe."
   ]
  },
  {
   "cell_type": "markdown",
   "metadata": {},
   "source": [
    "Una vez visto este punto, veamos en qué **formato** están cada uno de los campos:"
   ]
  },
  {
   "cell_type": "code",
   "execution_count": 5,
   "metadata": {
    "execution": {
     "iopub.execute_input": "2022-04-08T20:54:34.827324Z",
     "iopub.status.busy": "2022-04-08T20:54:34.827042Z",
     "iopub.status.idle": "2022-04-08T20:54:35.131882Z",
     "shell.execute_reply": "2022-04-08T20:54:35.130835Z",
     "shell.execute_reply.started": "2022-04-08T20:54:34.827292Z"
    },
    "tags": []
   },
   "outputs": [
    {
     "data": {
      "application/vnd.jupyter.widget-view+json": {
       "model_id": "ab569cf1795c409e8a2d34cf8391cbda",
       "version_major": 2,
       "version_minor": 0
      },
      "text/plain": [
       "VBox()"
      ]
     },
     "metadata": {},
     "output_type": "display_data"
    },
    {
     "data": {
      "application/vnd.jupyter.widget-view+json": {
       "model_id": "",
       "version_major": 2,
       "version_minor": 0
      },
      "text/plain": [
       "FloatProgress(value=0.0, bar_style='info', description='Progress:', layout=Layout(height='25px', width='50%'),…"
      ]
     },
     "metadata": {},
     "output_type": "display_data"
    },
    {
     "name": "stdout",
     "output_type": "stream",
     "text": [
      "root\n",
      " |-- marketplace: string (nullable = true)\n",
      " |-- customer_id: string (nullable = true)\n",
      " |-- review_id: string (nullable = true)\n",
      " |-- product_id: string (nullable = true)\n",
      " |-- product_parent: string (nullable = true)\n",
      " |-- product_title: string (nullable = true)\n",
      " |-- star_rating: integer (nullable = true)\n",
      " |-- helpful_votes: integer (nullable = true)\n",
      " |-- total_votes: integer (nullable = true)\n",
      " |-- vine: string (nullable = true)\n",
      " |-- verified_purchase: string (nullable = true)\n",
      " |-- review_headline: string (nullable = true)\n",
      " |-- review_body: string (nullable = true)\n",
      " |-- review_date: date (nullable = true)\n",
      " |-- year: integer (nullable = true)\n",
      " |-- product_category: string (nullable = true)"
     ]
    }
   ],
   "source": [
    "df_amazon_clean.printSchema()"
   ]
  },
  {
   "cell_type": "markdown",
   "metadata": {},
   "source": [
    "Hay 4 campos que no se adecuan mucho con el formato que son:\n",
    "\n",
    "- Por un lado está `customer_id` y `product_parent` que estan en formato string (texto) cuando en ellos solo hay números (cosa que por ejemplo no ocurre con `review_id` y `product_id` que se juntan letras y números). Se casteará ambos a **integer** (números enteros).\n",
    "\n",
    "- En el caso de `vine` y `verified_purchase` no es del todo erróneo que sea string al ser un  \"Y\" (SÍ) o un \"N\" (NO) pero ya que solo gira en torno a una variable binaria veo más recomendable transformarlo en **booleanos**, es decir, que sea \"true\" (Verdad) o \"false\" (Falso). "
   ]
  },
  {
   "cell_type": "code",
   "execution_count": 6,
   "metadata": {
    "execution": {
     "iopub.execute_input": "2022-04-19T18:18:52.698797Z",
     "iopub.status.busy": "2022-04-19T18:18:52.698565Z",
     "iopub.status.idle": "2022-04-19T18:18:53.513785Z",
     "shell.execute_reply": "2022-04-19T18:18:53.512918Z",
     "shell.execute_reply.started": "2022-04-19T18:18:52.698766Z"
    },
    "tags": []
   },
   "outputs": [
    {
     "data": {
      "application/vnd.jupyter.widget-view+json": {
       "model_id": "c98bb159112c42bbabb0e0d052b35e95",
       "version_major": 2,
       "version_minor": 0
      },
      "text/plain": [
       "VBox()"
      ]
     },
     "metadata": {},
     "output_type": "display_data"
    },
    {
     "data": {
      "application/vnd.jupyter.widget-view+json": {
       "model_id": "",
       "version_major": 2,
       "version_minor": 0
      },
      "text/plain": [
       "FloatProgress(value=0.0, bar_style='info', description='Progress:', layout=Layout(height='25px', width='50%'),…"
      ]
     },
     "metadata": {},
     "output_type": "display_data"
    }
   ],
   "source": [
    "# Casteamos los campos:\n",
    "\n",
    "df_amazon_casted = (\n",
    " df_amazon_clean\n",
    "    .withColumn(\"customer_id\", f.col(\"review_id\").cast(\"integer\"))\n",
    "    .withColumn(\"product_parent\", f.col(\"product_id\").cast(\"integer\"))\n",
    "    .withColumn(\"vine\",f.col(\"vine\").cast(\"boolean\"))\n",
    "    .withColumn(\"verified_purchase\",f.col(\"verified_purchase\").cast(\"boolean\"))\n",
    ")"
   ]
  },
  {
   "cell_type": "code",
   "execution_count": 7,
   "metadata": {
    "execution": {
     "iopub.execute_input": "2022-04-08T20:54:35.955655Z",
     "iopub.status.busy": "2022-04-08T20:54:35.954948Z",
     "iopub.status.idle": "2022-04-08T20:54:36.082181Z",
     "shell.execute_reply": "2022-04-08T20:54:36.080975Z",
     "shell.execute_reply.started": "2022-04-08T20:54:35.955604Z"
    },
    "tags": []
   },
   "outputs": [
    {
     "data": {
      "application/vnd.jupyter.widget-view+json": {
       "model_id": "726daa5e9eff4b61999f726326a9434f",
       "version_major": 2,
       "version_minor": 0
      },
      "text/plain": [
       "VBox()"
      ]
     },
     "metadata": {},
     "output_type": "display_data"
    },
    {
     "data": {
      "application/vnd.jupyter.widget-view+json": {
       "model_id": "",
       "version_major": 2,
       "version_minor": 0
      },
      "text/plain": [
       "FloatProgress(value=0.0, bar_style='info', description='Progress:', layout=Layout(height='25px', width='50%'),…"
      ]
     },
     "metadata": {},
     "output_type": "display_data"
    },
    {
     "name": "stdout",
     "output_type": "stream",
     "text": [
      "root\n",
      " |-- marketplace: string (nullable = true)\n",
      " |-- customer_id: integer (nullable = true)\n",
      " |-- review_id: string (nullable = true)\n",
      " |-- product_id: string (nullable = true)\n",
      " |-- product_parent: integer (nullable = true)\n",
      " |-- product_title: string (nullable = true)\n",
      " |-- star_rating: integer (nullable = true)\n",
      " |-- helpful_votes: integer (nullable = true)\n",
      " |-- total_votes: integer (nullable = true)\n",
      " |-- vine: boolean (nullable = true)\n",
      " |-- verified_purchase: boolean (nullable = true)\n",
      " |-- review_headline: string (nullable = true)\n",
      " |-- review_body: string (nullable = true)\n",
      " |-- review_date: date (nullable = true)\n",
      " |-- year: integer (nullable = true)\n",
      " |-- product_category: string (nullable = true)"
     ]
    }
   ],
   "source": [
    "# Vemos cómo ha cambiado\n",
    "\n",
    "df_amazon_casted.printSchema()"
   ]
  },
  {
   "cell_type": "markdown",
   "metadata": {},
   "source": [
    "### Pregunta 2: Obten los valores estadísticos de cada una de las columnas"
   ]
  },
  {
   "cell_type": "code",
   "execution_count": 11,
   "metadata": {
    "execution": {
     "iopub.execute_input": "2022-04-08T23:24:17.341344Z",
     "iopub.status.busy": "2022-04-08T23:24:17.341080Z",
     "iopub.status.idle": "2022-04-08T23:52:09.923356Z",
     "shell.execute_reply": "2022-04-08T23:52:09.921581Z",
     "shell.execute_reply.started": "2022-04-08T23:24:17.341312Z"
    },
    "tags": []
   },
   "outputs": [
    {
     "data": {
      "application/vnd.jupyter.widget-view+json": {
       "model_id": "92b4dfef3aea40f389634b7c96c0202e",
       "version_major": 2,
       "version_minor": 0
      },
      "text/plain": [
       "VBox()"
      ]
     },
     "metadata": {},
     "output_type": "display_data"
    },
    {
     "data": {
      "application/vnd.jupyter.widget-view+json": {
       "model_id": "",
       "version_major": 2,
       "version_minor": 0
      },
      "text/plain": [
       "FloatProgress(value=0.0, bar_style='info', description='Progress:', layout=Layout(height='25px', width='50%'),…"
      ]
     },
     "metadata": {},
     "output_type": "display_data"
    },
    {
     "name": "stdout",
     "output_type": "stream",
     "text": [
      "+-------+-----------+-----------+--------------+--------------------+-------------------+--------------------+------------------+------------------+------------------+--------------------+--------------------+------------------+----------------+\n",
      "|summary|marketplace|customer_id|     review_id|          product_id|     product_parent|       product_title|       star_rating|     helpful_votes|       total_votes|     review_headline|         review_body|              year|product_category|\n",
      "+-------+-----------+-----------+--------------+--------------------+-------------------+--------------------+------------------+------------------+------------------+--------------------+--------------------+------------------+----------------+\n",
      "|  count|  160789452|          0|     160789452|           160789452|           18113815|           160789452|         160789452|         160789452|         160789452|           160789452|           160789452|         160789452|       160789452|\n",
      "|   mean|       null|       null|          null|1.1340095285851672E9|9.305411835700326E8|                 NaN| 4.206633784658959|1.9300813401615424|2.6119304766335047|                 NaN|            Infinity|2012.8035974834966|            null|\n",
      "| stddev|       null|       null|          null| 1.244684842423246E9|5.492641519761298E8|                 NaN|1.2478356879587635|20.137421551190915|22.050158253110258|                 NaN|                 NaN|  2.99989453720663|            null|\n",
      "|    min|         DE|       null|R100007TERQ36I|          0000000078|                 78|                   !|                 1|                 0|                 0|\u0006Our 2-year old s...|\u0002________________...|              1973|         Apparel|\n",
      "|    max|         US|       null| RZZZZYOFYZ829|          BT00IU6O8K|         2130630715|🌴 Vacation On Th...|                 5|             47524|             48362|🤹🏽‍♂️🎤Great pr...|🛅🚑🚚🚏🚙🚈🚘🚈?...|              2015|        Wireless|\n",
      "+-------+-----------+-----------+--------------+--------------------+-------------------+--------------------+------------------+------------------+------------------+--------------------+--------------------+------------------+----------------+"
     ]
    }
   ],
   "source": [
    "df_amazon_casted.describe().show()"
   ]
  },
  {
   "cell_type": "markdown",
   "metadata": {},
   "source": [
    "Realmente los únicos campos con sentido matemático y que nos interesan son los de:\n",
    "\n",
    "- **`star_rating`**: sus valores se mueven dentro de lo estimado, que es entre 1 y 5. Predominan las valoraciones positivas pues la media de calificación se sitúa en el 4,20.\n",
    "\n",
    "- **`helpful_votes`**: apenas cada producto tiene una media de dos votos de respuesta útil recibidos. Hay productos que no han recibido ninguna clase de voto y uno que recibió 47.524 votos.\n",
    "\n",
    "- **`total_votes`**: cada producto tiene aproximadamente una media de 2 y 3 votos, con algún producto que no recibe ninguna y uno que tuvo 48.362."
   ]
  },
  {
   "cell_type": "markdown",
   "metadata": {},
   "source": [
    "Como no salen `vine` y `verified_purchase` por el casteo a booleano hacemos el describe de esos dos campos con el dataset original."
   ]
  },
  {
   "cell_type": "code",
   "execution_count": 12,
   "metadata": {
    "execution": {
     "iopub.execute_input": "2022-04-08T23:58:01.462739Z",
     "iopub.status.busy": "2022-04-08T23:58:01.462448Z",
     "iopub.status.idle": "2022-04-09T00:01:31.446455Z",
     "shell.execute_reply": "2022-04-09T00:01:31.445417Z",
     "shell.execute_reply.started": "2022-04-08T23:58:01.462706Z"
    },
    "tags": []
   },
   "outputs": [
    {
     "data": {
      "application/vnd.jupyter.widget-view+json": {
       "model_id": "5b801d03664c493c89252e4ad2568339",
       "version_major": 2,
       "version_minor": 0
      },
      "text/plain": [
       "VBox()"
      ]
     },
     "metadata": {},
     "output_type": "display_data"
    },
    {
     "data": {
      "application/vnd.jupyter.widget-view+json": {
       "model_id": "",
       "version_major": 2,
       "version_minor": 0
      },
      "text/plain": [
       "FloatProgress(value=0.0, bar_style='info', description='Progress:', layout=Layout(height='25px', width='50%'),…"
      ]
     },
     "metadata": {},
     "output_type": "display_data"
    },
    {
     "name": "stdout",
     "output_type": "stream",
     "text": [
      "+-------+---------+-----------------+\n",
      "|summary|     vine|verified_purchase|\n",
      "+-------+---------+-----------------+\n",
      "|  count|160796570|        160796570|\n",
      "|   mean|     null|             null|\n",
      "| stddev|     null|             null|\n",
      "|    min|        N|                N|\n",
      "|    max|        Y|                Y|\n",
      "+-------+---------+-----------------+"
     ]
    }
   ],
   "source": [
    "df_amazon.describe(\"vine\", \"verified_purchase\").show()"
   ]
  },
  {
   "cell_type": "markdown",
   "metadata": {},
   "source": [
    "### Pregunta 3: Verifica que los campos de star_rating, vine, y verified purchase contienen valores correctos de acuerdo a lo descrito en data layout"
   ]
  },
  {
   "cell_type": "markdown",
   "metadata": {},
   "source": [
    "Con la información de ambos describe vamos caso por caso:\n",
    "\n",
    "- **`star_rating_vine`**: sus valores deben comprender entre 1 y 5, que son el número de estrellas con las que se califica cada artículo. Su valor mínimo es 1 y el máximo es 5. Teniendo en cuenta que Amazon no deja valorar con decimales el rango se adecua a lo descrito en el data layout.\n",
    "\n",
    "- **`vine`**: se identifica si la review ha sido escrita o no en el programa Vine. La respuesta es SI o NO, así que más allá del transformación a booleano comentada anteriormente vemos que ambos valores se mueven entre el \"Y\" (SÍ) o \"N\" (NO) por lo también sus valores son correctos.\n",
    "\n",
    "- **`verified_purchase`**: misma situación que en `vine`, más allá de su casteo a booleano cumple con la descripción del data layout."
   ]
  },
  {
   "cell_type": "markdown",
   "metadata": {},
   "source": [
    "### Pregunta 4: Obtén la cantidad total de categorías distintas asociadas a las reviews. ¿Crees que tendría sentido añadir una nueva columna con un menor nivel de granularidad?"
   ]
  },
  {
   "cell_type": "code",
   "execution_count": 7,
   "metadata": {
    "execution": {
     "iopub.execute_input": "2022-03-31T18:34:48.106208Z",
     "iopub.status.busy": "2022-03-31T18:34:48.105891Z",
     "iopub.status.idle": "2022-03-31T18:35:01.516875Z",
     "shell.execute_reply": "2022-03-31T18:35:01.515871Z",
     "shell.execute_reply.started": "2022-03-31T18:34:48.106160Z"
    },
    "tags": []
   },
   "outputs": [
    {
     "data": {
      "application/vnd.jupyter.widget-view+json": {
       "model_id": "b902cf0e45ca46ada41221f284c86fe9",
       "version_major": 2,
       "version_minor": 0
      },
      "text/plain": [
       "VBox()"
      ]
     },
     "metadata": {},
     "output_type": "display_data"
    },
    {
     "data": {
      "application/vnd.jupyter.widget-view+json": {
       "model_id": "",
       "version_major": 2,
       "version_minor": 0
      },
      "text/plain": [
       "FloatProgress(value=0.0, bar_style='info', description='Progress:', layout=Layout(height='25px', width='50%'),…"
      ]
     },
     "metadata": {},
     "output_type": "display_data"
    },
    {
     "name": "stdout",
     "output_type": "stream",
     "text": [
      "43"
     ]
    }
   ],
   "source": [
    "# Miramos el número total de categorías distintas\n",
    "\n",
    "df_amazon_casted.select(\"product_category\").distinct().count()"
   ]
  },
  {
   "cell_type": "code",
   "execution_count": 13,
   "metadata": {
    "execution": {
     "iopub.execute_input": "2022-04-09T00:03:02.950803Z",
     "iopub.status.busy": "2022-04-09T00:03:02.950520Z",
     "iopub.status.idle": "2022-04-09T00:07:59.207057Z",
     "shell.execute_reply": "2022-04-09T00:07:59.205999Z",
     "shell.execute_reply.started": "2022-04-09T00:03:02.950770Z"
    },
    "tags": []
   },
   "outputs": [
    {
     "data": {
      "application/vnd.jupyter.widget-view+json": {
       "model_id": "9893c607ab4f41ddbafe813a4defffa8",
       "version_major": 2,
       "version_minor": 0
      },
      "text/plain": [
       "VBox()"
      ]
     },
     "metadata": {},
     "output_type": "display_data"
    },
    {
     "data": {
      "application/vnd.jupyter.widget-view+json": {
       "model_id": "",
       "version_major": 2,
       "version_minor": 0
      },
      "text/plain": [
       "FloatProgress(value=0.0, bar_style='info', description='Progress:', layout=Layout(height='25px', width='50%'),…"
      ]
     },
     "metadata": {},
     "output_type": "display_data"
    },
    {
     "name": "stdout",
     "output_type": "stream",
     "text": [
      "+------------------------+\n",
      "|product_category        |\n",
      "+------------------------+\n",
      "|PC                      |\n",
      "|Kitchen                 |\n",
      "|Video                   |\n",
      "|Digital_Video_Games     |\n",
      "|Sports                  |\n",
      "|Outdoors                |\n",
      "|Grocery                 |\n",
      "|Home_Improvement        |\n",
      "|Books                   |\n",
      "|Mobile_Apps             |\n",
      "|Furniture               |\n",
      "|Shoes                   |\n",
      "|Digital_Music_Purchase  |\n",
      "|Toys                    |\n",
      "|Watches                 |\n",
      "|Jewelry                 |\n",
      "|Luggage                 |\n",
      "|Tools                   |\n",
      "|Baby                    |\n",
      "|Major_Appliances        |\n",
      "|Automotive              |\n",
      "|Gift_Card               |\n",
      "|Digital_Software        |\n",
      "|Musical_Instruments     |\n",
      "|Home                    |\n",
      "|Health_&_Personal_Care  |\n",
      "|Digital_Video_Download  |\n",
      "|Mobile_Electronics      |\n",
      "|Video_Games             |\n",
      "|Apparel                 |\n",
      "|Home_Entertainment      |\n",
      "|Lawn_and_Garden         |\n",
      "|Music                   |\n",
      "|Software                |\n",
      "|Camera                  |\n",
      "|Beauty                  |\n",
      "|Office_Products         |\n",
      "|Wireless                |\n",
      "|Digital_Ebook_Purchase  |\n",
      "|Electronics             |\n",
      "|Pet_Products            |\n",
      "|Personal_Care_Appliances|\n",
      "|Video_DVD               |\n",
      "+------------------------+"
     ]
    }
   ],
   "source": [
    "# Veamos el nombre de las 43 categorías\n",
    "\n",
    "df_amazon_casted.select(\"product_category\").distinct().show(43, False)"
   ]
  },
  {
   "cell_type": "code",
   "execution_count": 32,
   "metadata": {
    "execution": {
     "iopub.execute_input": "2022-04-11T01:40:30.604148Z",
     "iopub.status.busy": "2022-04-11T01:40:30.603939Z",
     "iopub.status.idle": "2022-04-11T01:45:14.791807Z",
     "shell.execute_reply": "2022-04-11T01:45:14.790920Z",
     "shell.execute_reply.started": "2022-04-11T01:40:30.604119Z"
    },
    "tags": []
   },
   "outputs": [
    {
     "data": {
      "application/vnd.jupyter.widget-view+json": {
       "model_id": "be115a5a0e86419a81affd22fb35fa6b",
       "version_major": 2,
       "version_minor": 0
      },
      "text/plain": [
       "VBox()"
      ]
     },
     "metadata": {},
     "output_type": "display_data"
    },
    {
     "data": {
      "application/vnd.jupyter.widget-view+json": {
       "model_id": "",
       "version_major": 2,
       "version_minor": 0
      },
      "text/plain": [
       "FloatProgress(value=0.0, bar_style='info', description='Progress:', layout=Layout(height='25px', width='50%'),…"
      ]
     },
     "metadata": {},
     "output_type": "display_data"
    },
    {
     "name": "stdout",
     "output_type": "stream",
     "text": [
      "+------------------------+--------------+\n",
      "|product_category        |total_products|\n",
      "+------------------------+--------------+\n",
      "|Books                   |20725905      |\n",
      "|Digital_Ebook_Purchase  |19180684      |\n",
      "|Wireless                |9037709       |\n",
      "|Video_DVD               |7135754       |\n",
      "|PC                      |7004142       |\n",
      "|Mobile_Apps             |6807074       |\n",
      "|Home                    |6228026       |\n",
      "|Music                   |6177622       |\n",
      "|Apparel                 |5905683       |\n",
      "|Health_&_Personal_Care  |5332715       |\n",
      "|Digital_Video_Download  |5173648       |\n",
      "|Beauty                  |5115351       |\n",
      "|Toys                    |4981218       |\n",
      "|Kitchen                 |4882582       |\n",
      "|Sports                  |4859725       |\n",
      "|Shoes                   |4379038       |\n",
      "|Automotive              |3515964       |\n",
      "|Electronics             |3120848       |\n",
      "|Office_Products         |2646406       |\n",
      "|Pet_Products            |2643453       |\n",
      "|Home_Improvement        |2640482       |\n",
      "|Lawn_and_Garden         |2559115       |\n",
      "|Grocery                 |2402412       |\n",
      "|Outdoors                |2305467       |\n",
      "|Digital_Music_Purchase  |1852136       |\n",
      "|Camera                  |1838692       |\n",
      "|Video_Games             |1808434       |\n",
      "|Jewelry                 |1767518       |\n",
      "|Baby                    |1764742       |\n",
      "|Tools                   |1748563       |\n",
      "|Watches                 |977888        |\n",
      "|Musical_Instruments     |920676        |\n",
      "|Furniture               |792111        |\n",
      "|Home_Entertainment      |743684        |\n",
      "|Video                   |437408        |\n",
      "|Luggage                 |349108        |\n",
      "|Software                |342133        |\n",
      "|Gift_Card               |149085        |\n",
      "|Digital_Video_Games     |145429        |\n",
      "|Mobile_Electronics      |105158        |\n",
      "|Digital_Software        |102084        |\n",
      "|Major_Appliances        |96894         |\n",
      "|Personal_Care_Appliances|86686         |\n",
      "+------------------------+--------------+"
     ]
    }
   ],
   "source": [
    "# A modo de información, sacamos el número de productos que tiene cada una de las categorías\n",
    "\n",
    "(\n",
    "    df_amazon_casted\n",
    "    .select(\"product_category\")\n",
    "    .groupBy(\"product_category\")\n",
    "    .agg(\n",
    "        f.count(\"product_category\").alias(\"total_products\"),\n",
    "        f.col(count(\"product_category\")/df_amazon_casted.count()\n",
    "    )\n",
    "    .orderBy(\"total_products\", ascending = False)\n",
    "    .show(43, False)\n",
    ")"
   ]
  },
  {
   "cell_type": "markdown",
   "metadata": {},
   "source": [
    "Respecto a la pregunta planteada, considero que aunque están bastante bien descritas cada una de las categorías algunas de ellas se podrían agrupar en una nueva columna:\n",
    "\n",
    "- Observamos 5 categorías que empiezan con \"Digital\" por lo que de alguna manera llamandose `Digital_Products`.\n",
    "\n",
    "- Lo mismo diría con `Home` en el cual hay 3 categorías que se podrían agrupar todas en la propia `Home`. \n",
    "\n",
    "- `Watches` y `Jewelry` las incluiría en una nueva categoría de `Accesories`. \n",
    "\n",
    "- `Health_&_Personal_Care` y `Personal_Care_Appliances` pueden juntarse en una misma categoría mismamente."
   ]
  },
  {
   "cell_type": "markdown",
   "metadata": {
    "tags": []
   },
   "source": [
    "## Conteo del total de elementos"
   ]
  },
  {
   "cell_type": "markdown",
   "metadata": {
    "execution": {
     "iopub.execute_input": "2022-04-09T00:30:14.999868Z",
     "iopub.status.busy": "2022-04-09T00:30:14.999546Z",
     "iopub.status.idle": "2022-04-09T00:30:15.066306Z",
     "shell.execute_reply": "2022-04-09T00:30:15.065384Z",
     "shell.execute_reply.started": "2022-04-09T00:30:14.999835Z"
    }
   },
   "source": [
    "Una vez eliminados los valores nulos, comprobemos como queda el conteo total (aunque ya se ha visto en el describe):"
   ]
  },
  {
   "cell_type": "code",
   "execution_count": 14,
   "metadata": {
    "execution": {
     "iopub.execute_input": "2022-04-09T00:24:44.695743Z",
     "iopub.status.busy": "2022-04-09T00:24:44.695450Z",
     "iopub.status.idle": "2022-04-09T00:29:38.955550Z",
     "shell.execute_reply": "2022-04-09T00:29:38.954339Z",
     "shell.execute_reply.started": "2022-04-09T00:24:44.695711Z"
    },
    "tags": []
   },
   "outputs": [
    {
     "data": {
      "application/vnd.jupyter.widget-view+json": {
       "model_id": "7e5b421c954846b69f3b683d4c2d9c12",
       "version_major": 2,
       "version_minor": 0
      },
      "text/plain": [
       "VBox()"
      ]
     },
     "metadata": {},
     "output_type": "display_data"
    },
    {
     "data": {
      "application/vnd.jupyter.widget-view+json": {
       "model_id": "",
       "version_major": 2,
       "version_minor": 0
      },
      "text/plain": [
       "FloatProgress(value=0.0, bar_style='info', description='Progress:', layout=Layout(height='25px', width='50%'),…"
      ]
     },
     "metadata": {},
     "output_type": "display_data"
    },
    {
     "name": "stdout",
     "output_type": "stream",
     "text": [
      "160789452"
     ]
    }
   ],
   "source": [
    "df_amazon_casted.count()"
   ]
  },
  {
   "cell_type": "markdown",
   "metadata": {
    "tags": []
   },
   "source": [
    "## Filtrado y copia\n",
    "\n",
    "Como el dataset es masivo vamos a trabajar únicamente con una partición. Concretamente utilizaremos la partición de `Electronics`.\n",
    "\n",
    "- Crea un dataframe con el contenido únicamente de la categoría `Electronics` para el mercado americano `US`\n",
    "- Cuenta el total de elementos de este nuevo dataset\n",
    "- Guarda esta muestra en un bucket de tu cuenta de AWS\n",
    "- Vuelve a cargar el dataset desde este bucket"
   ]
  },
  {
   "cell_type": "code",
   "execution_count": 28,
   "metadata": {
    "execution": {
     "iopub.execute_input": "2022-04-09T00:49:58.906513Z",
     "iopub.status.busy": "2022-04-09T00:49:58.906220Z",
     "iopub.status.idle": "2022-04-09T00:49:58.981986Z",
     "shell.execute_reply": "2022-04-09T00:49:58.981255Z",
     "shell.execute_reply.started": "2022-04-09T00:49:58.906480Z"
    },
    "tags": []
   },
   "outputs": [
    {
     "data": {
      "application/vnd.jupyter.widget-view+json": {
       "model_id": "ad2b85b13da44d818103b0bfbea6bd03",
       "version_major": 2,
       "version_minor": 0
      },
      "text/plain": [
       "VBox()"
      ]
     },
     "metadata": {},
     "output_type": "display_data"
    },
    {
     "data": {
      "application/vnd.jupyter.widget-view+json": {
       "model_id": "",
       "version_major": 2,
       "version_minor": 0
      },
      "text/plain": [
       "FloatProgress(value=0.0, bar_style='info', description='Progress:', layout=Layout(height='25px', width='50%'),…"
      ]
     },
     "metadata": {},
     "output_type": "display_data"
    }
   ],
   "source": [
    "# Creamos el dataframe con las características que queremos\n",
    "\n",
    "df_electronics = (\n",
    "    df_amazon_casted\n",
    "        .where((f.col(\"product_category\") == \"Electronics\"))\n",
    "        .where((f.col(\"marketplace\") == \"US\"))\n",
    ")"
   ]
  },
  {
   "cell_type": "code",
   "execution_count": 29,
   "metadata": {
    "execution": {
     "iopub.execute_input": "2022-04-09T00:50:01.588400Z",
     "iopub.status.busy": "2022-04-09T00:50:01.588136Z",
     "iopub.status.idle": "2022-04-09T00:50:03.897190Z",
     "shell.execute_reply": "2022-04-09T00:50:03.896180Z",
     "shell.execute_reply.started": "2022-04-09T00:50:01.588369Z"
    },
    "tags": []
   },
   "outputs": [
    {
     "data": {
      "application/vnd.jupyter.widget-view+json": {
       "model_id": "f8537a22a65443b78a27fde4ea2893c9",
       "version_major": 2,
       "version_minor": 0
      },
      "text/plain": [
       "VBox()"
      ]
     },
     "metadata": {},
     "output_type": "display_data"
    },
    {
     "data": {
      "application/vnd.jupyter.widget-view+json": {
       "model_id": "",
       "version_major": 2,
       "version_minor": 0
      },
      "text/plain": [
       "FloatProgress(value=0.0, bar_style='info', description='Progress:', layout=Layout(height='25px', width='50%'),…"
      ]
     },
     "metadata": {},
     "output_type": "display_data"
    },
    {
     "name": "stdout",
     "output_type": "stream",
     "text": [
      "+-----------+-----------+--------------+----------+--------------+--------------------+-----------+-------------+-----------+-----+-----------------+--------------------+--------------------+-----------+----+----------------+\n",
      "|marketplace|customer_id|     review_id|product_id|product_parent|       product_title|star_rating|helpful_votes|total_votes| vine|verified_purchase|     review_headline|         review_body|review_date|year|product_category|\n",
      "+-----------+-----------+--------------+----------+--------------+--------------------+-----------+-------------+-----------+-----+-----------------+--------------------+--------------------+-----------+----+----------------+\n",
      "|         US|       null|R2RX7KLOQQ5VBG|B00000JBAT|          null|Diamond Rio Digit...|          3|            0|          0|false|            false|Why just 30 minutes?|RIO is really gre...| 1999-06-22|1999|     Electronics|\n",
      "|         US|       null| RPHMRNCGZF2HN|B001BRPLZU|          null|NG 283220 AC Adap...|          5|            0|          0|false|             true|          Five Stars|Great quality for...| 2014-11-17|2014|     Electronics|\n",
      "|         US|       null|R3PD79H9CTER8U|B00000JBAT|          null|Diamond Rio Digit...|          5|            1|          2|false|            false|The digital audio...|One of several fi...| 1999-06-30|1999|     Electronics|\n",
      "|         US|       null|R3U6UVNH7HGDMS|B009CY43DK|          null|HDE Mini Portable...|          5|            0|          0|false|             true|          Five Stars|I like it, got so...| 2014-11-17|2014|     Electronics|\n",
      "|         US|       null|R3SP31LN235GV3|B00000JBSN|          null|JVC FS-7000 Execu...|          3|            5|          5|false|            false|Design flaws ruin...|I returned mine f...| 1999-07-13|1999|     Electronics|\n",
      "|         US|       null|R1IYAZPPTRJF7E|B005LQ83EI|          null|BlueRigger High S...|          3|            0|          0|false|             true|Never got around ...|Never got around ...| 2014-11-17|2014|     Electronics|\n",
      "|         US|       null| RDYOBX7A6YZ2X|B00000JHYS|          null|Rio PMP 300 Speci...|          4|            0|          0|false|            false| Might want to wait.|I really like the...| 1999-07-16|1999|     Electronics|\n",
      "|         US|       null|R3RDD9FILG1LSN|B00CVB12RG|          null|Brookstone 2.4GHz...|          5|            3|          3|false|             true|Saved my. marriag...|Saved my.marriage...| 2014-11-17|2014|     Electronics|\n",
      "|         US|       null|R31I45LN3W8UUM|B00000J1SI|          null|GPX C3860 Portabl...|          5|            8|          9|false|            false|LOW PRICE GOOD VALUE|Very Good Product...| 1999-07-17|1999|     Electronics|\n",
      "|         US|       null|R2RVEE19EN94YK|B00JAYS824|          null|ABLEGRID Trademar...|          5|            0|          0|false|             true|          Five Stars|thanks to this i ...| 2014-11-17|2014|     Electronics|\n",
      "|         US|       null|R1FCT9FU5SNC10|B00000JDKE|          null|Sony STR-DE525 Su...|          4|           20|         21|false|            false|STR-DE525 an over...|I've had this rec...| 1999-07-19|1999|     Electronics|\n",
      "|         US|       null|R3LVBXXUNZC51Z|B001TIG36C|          null|VideoSecu Mounts ...|          5|            0|          0|false|             true|but it worked per...|I only used half ...| 2014-11-17|2014|     Electronics|\n",
      "|         US|       null|R3EOIZ0USWYGGJ|B00000JBSN|          null|JVC FS-7000 Execu...|          5|            5|          5|false|            false|Incredible Sound ...|This is a absolut...| 1999-08-06|1999|     Electronics|\n",
      "|         US|       null|R351BROAGZBM1E|B00KC00OOA|          null|2 Efest Purple IM...|          5|            5|          5|false|             true|Quality and long ...|These batteries t...| 2014-11-17|2014|     Electronics|\n",
      "|         US|       null|R3HM8AQLMWU2XZ|B00000JBAT|          null|Diamond Rio Digit...|          5|            0|          0|false|            false|The wave of the f...|Someday everythin...| 1999-08-09|1999|     Electronics|\n",
      "|         US|       null|R2CHXHVFA59AYS|B001078FV8|          null|niceEshop(TM) 2.5...|          1|            0|          0|false|             true|Even though they ...|Even though they ...| 2014-11-17|2014|     Electronics|\n",
      "|         US|       null|R11NUPY1HK6EB5|B00000J4BL|          null|Recoton TV3000 Lo...|          1|           13|         14|false|            false|         Poor choice|This is the sixth...| 1999-08-14|1999|     Electronics|\n",
      "|         US|       null|R3H94NFATP207A|B000STIZXW|          null|Monster Cable MPA...|          3|            0|          0|false|             true|Easy to unpluged ...|The ideal thing t...| 2014-11-17|2014|     Electronics|\n",
      "|         US|       null|R12ASZFB1WDEZP|B00000JBPB|          null|GPX C3948BI Ultra...|          5|            4|          6|false|            false|     BUY THIS!!!!!!!|I just got this n...| 1999-08-16|1999|     Electronics|\n",
      "|         US|       null|R33FOC8ANDPZSY|B007SNQRBI|          null|Generic Replaceme...|          5|            0|          0|false|             true|          Five Stars|           excellent| 2014-11-17|2014|     Electronics|\n",
      "+-----------+-----------+--------------+----------+--------------+--------------------+-----------+-------------+-----------+-----+-----------------+--------------------+--------------------+-----------+----+----------------+\n",
      "only showing top 20 rows"
     ]
    }
   ],
   "source": [
    "df_electronics.show()"
   ]
  },
  {
   "cell_type": "markdown",
   "metadata": {},
   "source": [
    "Llama la atención que habiendo anteriormente eliminado todos los valores nulos ahora aparezcan en `review_id` y `product_id`. **Recordemos que hemos eliminado los valores nulos antes del casteo**, así que vamos a ver si solo estos dos campos que son los que se han transformado a integer se han visto afectados."
   ]
  },
  {
   "cell_type": "code",
   "execution_count": 18,
   "metadata": {
    "execution": {
     "iopub.execute_input": "2022-04-09T00:35:27.539938Z",
     "iopub.status.busy": "2022-04-09T00:35:27.539652Z",
     "iopub.status.idle": "2022-04-09T00:35:48.896140Z",
     "shell.execute_reply": "2022-04-09T00:35:48.895249Z",
     "shell.execute_reply.started": "2022-04-09T00:35:27.539904Z"
    },
    "tags": []
   },
   "outputs": [
    {
     "data": {
      "application/vnd.jupyter.widget-view+json": {
       "model_id": "bc33961d1a7f4346a1e815ceaef4cf46",
       "version_major": 2,
       "version_minor": 0
      },
      "text/plain": [
       "VBox()"
      ]
     },
     "metadata": {},
     "output_type": "display_data"
    },
    {
     "data": {
      "application/vnd.jupyter.widget-view+json": {
       "model_id": "",
       "version_major": 2,
       "version_minor": 0
      },
      "text/plain": [
       "FloatProgress(value=0.0, bar_style='info', description='Progress:', layout=Layout(height='25px', width='50%'),…"
      ]
     },
     "metadata": {},
     "output_type": "display_data"
    },
    {
     "name": "stdout",
     "output_type": "stream",
     "text": [
      "+-----------+-----------+---------+----------+--------------+-------------+-----------+-------------+-----------+----+-----------------+---------------+-----------+-----------+----+----------------+\n",
      "|marketplace|customer_id|review_id|product_id|product_parent|product_title|star_rating|helpful_votes|total_votes|vine|verified_purchase|review_headline|review_body|review_date|year|product_category|\n",
      "+-----------+-----------+---------+----------+--------------+-------------+-----------+-------------+-----------+----+-----------------+---------------+-----------+-----------+----+----------------+\n",
      "|          0|    3105238|        0|         0|       3102514|            0|          0|            0|          0|   0|                0|              0|          0|          0|   0|               0|\n",
      "+-----------+-----------+---------+----------+--------------+-------------+-----------+-------------+-----------+----+-----------------+---------------+-----------+-----------+----+----------------+"
     ]
    }
   ],
   "source": [
    "df_electronics.select([count(when(col(c).isNull(), c)).alias(c) for c in df_electronics.columns]).show()"
   ]
  },
  {
   "cell_type": "markdown",
   "metadata": {},
   "source": [
    "Efectivamente, parece que **el casteo ha alterado de alguna manera los valores de estos dos campos**. Al igual que la otra vez vamos a comprobar la magnitud de estos valores nulos."
   ]
  },
  {
   "cell_type": "code",
   "execution_count": 23,
   "metadata": {
    "execution": {
     "iopub.execute_input": "2022-04-09T00:41:00.350437Z",
     "iopub.status.busy": "2022-04-09T00:41:00.350113Z",
     "iopub.status.idle": "2022-04-09T00:41:15.720557Z",
     "shell.execute_reply": "2022-04-09T00:41:15.719575Z",
     "shell.execute_reply.started": "2022-04-09T00:41:00.350400Z"
    },
    "tags": []
   },
   "outputs": [
    {
     "data": {
      "application/vnd.jupyter.widget-view+json": {
       "model_id": "18c4cfd666f64117ba6fab21cde0d497",
       "version_major": 2,
       "version_minor": 0
      },
      "text/plain": [
       "VBox()"
      ]
     },
     "metadata": {},
     "output_type": "display_data"
    },
    {
     "data": {
      "application/vnd.jupyter.widget-view+json": {
       "model_id": "",
       "version_major": 2,
       "version_minor": 0
      },
      "text/plain": [
       "FloatProgress(value=0.0, bar_style='info', description='Progress:', layout=Layout(height='25px', width='50%'),…"
      ]
     },
     "metadata": {},
     "output_type": "display_data"
    },
    {
     "name": "stdout",
     "output_type": "stream",
     "text": [
      "100.0"
     ]
    }
   ],
   "source": [
    "# Porcentaje de customer_id\n",
    "\n",
    "percentage_null_customer_id = (df_electronics.filter(\"customer_id is null\").count()/df_electronics.count()*100)\n",
    "percentage_null_customer_id"
   ]
  },
  {
   "cell_type": "code",
   "execution_count": 24,
   "metadata": {
    "execution": {
     "iopub.execute_input": "2022-04-09T00:42:31.796439Z",
     "iopub.status.busy": "2022-04-09T00:42:31.796134Z",
     "iopub.status.idle": "2022-04-09T00:42:59.837371Z",
     "shell.execute_reply": "2022-04-09T00:42:59.833252Z",
     "shell.execute_reply.started": "2022-04-09T00:42:31.796405Z"
    },
    "tags": []
   },
   "outputs": [
    {
     "data": {
      "application/vnd.jupyter.widget-view+json": {
       "model_id": "acdd4b2f5af344e59096aced551cbe94",
       "version_major": 2,
       "version_minor": 0
      },
      "text/plain": [
       "VBox()"
      ]
     },
     "metadata": {},
     "output_type": "display_data"
    },
    {
     "data": {
      "application/vnd.jupyter.widget-view+json": {
       "model_id": "",
       "version_major": 2,
       "version_minor": 0
      },
      "text/plain": [
       "FloatProgress(value=0.0, bar_style='info', description='Progress:', layout=Layout(height='25px', width='50%'),…"
      ]
     },
     "metadata": {},
     "output_type": "display_data"
    },
    {
     "name": "stdout",
     "output_type": "stream",
     "text": [
      "99.91227725539879"
     ]
    }
   ],
   "source": [
    "percentage_null_product_parent = (df_electronics.filter(\"product_parent is null\").count()/df_electronics.count()*100)\n",
    "percentage_null_product_parent"
   ]
  },
  {
   "cell_type": "markdown",
   "metadata": {},
   "source": [
    "Absolutamente todos los valores de `customer_id` son nulos y practicamente también en `product_parent`. Si fuese información útil sería recomendable volver a castearlos en el formato anterior, pero según el data layout **son identificadores aleatorios de las reviews sin ninguna relación con el cliente o el producto** por lo que en este caso vamos a proceder a eliminar ambas columnas en su totalidad."
   ]
  },
  {
   "cell_type": "code",
   "execution_count": 32,
   "metadata": {
    "execution": {
     "iopub.execute_input": "2022-04-09T00:50:49.758558Z",
     "iopub.status.busy": "2022-04-09T00:50:49.758196Z",
     "iopub.status.idle": "2022-04-09T00:50:49.828603Z",
     "shell.execute_reply": "2022-04-09T00:50:49.827839Z",
     "shell.execute_reply.started": "2022-04-09T00:50:49.758524Z"
    },
    "tags": []
   },
   "outputs": [
    {
     "data": {
      "application/vnd.jupyter.widget-view+json": {
       "model_id": "78235e021a00458c9e434268cc045849",
       "version_major": 2,
       "version_minor": 0
      },
      "text/plain": [
       "VBox()"
      ]
     },
     "metadata": {},
     "output_type": "display_data"
    },
    {
     "data": {
      "application/vnd.jupyter.widget-view+json": {
       "model_id": "",
       "version_major": 2,
       "version_minor": 0
      },
      "text/plain": [
       "FloatProgress(value=0.0, bar_style='info', description='Progress:', layout=Layout(height='25px', width='50%'),…"
      ]
     },
     "metadata": {},
     "output_type": "display_data"
    }
   ],
   "source": [
    "df_electronics = df_electronics.drop(\"customer_id\",\"product_parent\")"
   ]
  },
  {
   "cell_type": "markdown",
   "metadata": {},
   "source": [
    "El nuevo dataframe con este cambio quedaría así."
   ]
  },
  {
   "cell_type": "code",
   "execution_count": 33,
   "metadata": {
    "execution": {
     "iopub.execute_input": "2022-04-09T00:50:50.570338Z",
     "iopub.status.busy": "2022-04-09T00:50:50.570069Z",
     "iopub.status.idle": "2022-04-09T00:50:52.864126Z",
     "shell.execute_reply": "2022-04-09T00:50:52.863232Z",
     "shell.execute_reply.started": "2022-04-09T00:50:50.570306Z"
    },
    "tags": []
   },
   "outputs": [
    {
     "data": {
      "application/vnd.jupyter.widget-view+json": {
       "model_id": "6af9e7392a904e22a0cceacebe49a8c3",
       "version_major": 2,
       "version_minor": 0
      },
      "text/plain": [
       "VBox()"
      ]
     },
     "metadata": {},
     "output_type": "display_data"
    },
    {
     "data": {
      "application/vnd.jupyter.widget-view+json": {
       "model_id": "",
       "version_major": 2,
       "version_minor": 0
      },
      "text/plain": [
       "FloatProgress(value=0.0, bar_style='info', description='Progress:', layout=Layout(height='25px', width='50%'),…"
      ]
     },
     "metadata": {},
     "output_type": "display_data"
    },
    {
     "name": "stdout",
     "output_type": "stream",
     "text": [
      "+-----------+--------------+----------+--------------------+-----------+-------------+-----------+-----+-----------------+--------------------+--------------------+-----------+----+----------------+\n",
      "|marketplace|     review_id|product_id|       product_title|star_rating|helpful_votes|total_votes| vine|verified_purchase|     review_headline|         review_body|review_date|year|product_category|\n",
      "+-----------+--------------+----------+--------------------+-----------+-------------+-----------+-----+-----------------+--------------------+--------------------+-----------+----+----------------+\n",
      "|         US|R2RX7KLOQQ5VBG|B00000JBAT|Diamond Rio Digit...|          3|            0|          0|false|            false|Why just 30 minutes?|RIO is really gre...| 1999-06-22|1999|     Electronics|\n",
      "|         US| RPHMRNCGZF2HN|B001BRPLZU|NG 283220 AC Adap...|          5|            0|          0|false|             true|          Five Stars|Great quality for...| 2014-11-17|2014|     Electronics|\n",
      "|         US|R3PD79H9CTER8U|B00000JBAT|Diamond Rio Digit...|          5|            1|          2|false|            false|The digital audio...|One of several fi...| 1999-06-30|1999|     Electronics|\n",
      "|         US|R3U6UVNH7HGDMS|B009CY43DK|HDE Mini Portable...|          5|            0|          0|false|             true|          Five Stars|I like it, got so...| 2014-11-17|2014|     Electronics|\n",
      "|         US|R3SP31LN235GV3|B00000JBSN|JVC FS-7000 Execu...|          3|            5|          5|false|            false|Design flaws ruin...|I returned mine f...| 1999-07-13|1999|     Electronics|\n",
      "|         US|R1IYAZPPTRJF7E|B005LQ83EI|BlueRigger High S...|          3|            0|          0|false|             true|Never got around ...|Never got around ...| 2014-11-17|2014|     Electronics|\n",
      "|         US| RDYOBX7A6YZ2X|B00000JHYS|Rio PMP 300 Speci...|          4|            0|          0|false|            false| Might want to wait.|I really like the...| 1999-07-16|1999|     Electronics|\n",
      "|         US|R3RDD9FILG1LSN|B00CVB12RG|Brookstone 2.4GHz...|          5|            3|          3|false|             true|Saved my. marriag...|Saved my.marriage...| 2014-11-17|2014|     Electronics|\n",
      "|         US|R31I45LN3W8UUM|B00000J1SI|GPX C3860 Portabl...|          5|            8|          9|false|            false|LOW PRICE GOOD VALUE|Very Good Product...| 1999-07-17|1999|     Electronics|\n",
      "|         US|R2RVEE19EN94YK|B00JAYS824|ABLEGRID Trademar...|          5|            0|          0|false|             true|          Five Stars|thanks to this i ...| 2014-11-17|2014|     Electronics|\n",
      "|         US|R1FCT9FU5SNC10|B00000JDKE|Sony STR-DE525 Su...|          4|           20|         21|false|            false|STR-DE525 an over...|I've had this rec...| 1999-07-19|1999|     Electronics|\n",
      "|         US|R3LVBXXUNZC51Z|B001TIG36C|VideoSecu Mounts ...|          5|            0|          0|false|             true|but it worked per...|I only used half ...| 2014-11-17|2014|     Electronics|\n",
      "|         US|R3EOIZ0USWYGGJ|B00000JBSN|JVC FS-7000 Execu...|          5|            5|          5|false|            false|Incredible Sound ...|This is a absolut...| 1999-08-06|1999|     Electronics|\n",
      "|         US|R351BROAGZBM1E|B00KC00OOA|2 Efest Purple IM...|          5|            5|          5|false|             true|Quality and long ...|These batteries t...| 2014-11-17|2014|     Electronics|\n",
      "|         US|R3HM8AQLMWU2XZ|B00000JBAT|Diamond Rio Digit...|          5|            0|          0|false|            false|The wave of the f...|Someday everythin...| 1999-08-09|1999|     Electronics|\n",
      "|         US|R2CHXHVFA59AYS|B001078FV8|niceEshop(TM) 2.5...|          1|            0|          0|false|             true|Even though they ...|Even though they ...| 2014-11-17|2014|     Electronics|\n",
      "|         US|R11NUPY1HK6EB5|B00000J4BL|Recoton TV3000 Lo...|          1|           13|         14|false|            false|         Poor choice|This is the sixth...| 1999-08-14|1999|     Electronics|\n",
      "|         US|R3H94NFATP207A|B000STIZXW|Monster Cable MPA...|          3|            0|          0|false|             true|Easy to unpluged ...|The ideal thing t...| 2014-11-17|2014|     Electronics|\n",
      "|         US|R12ASZFB1WDEZP|B00000JBPB|GPX C3948BI Ultra...|          5|            4|          6|false|            false|     BUY THIS!!!!!!!|I just got this n...| 1999-08-16|1999|     Electronics|\n",
      "|         US|R33FOC8ANDPZSY|B007SNQRBI|Generic Replaceme...|          5|            0|          0|false|             true|          Five Stars|           excellent| 2014-11-17|2014|     Electronics|\n",
      "+-----------+--------------+----------+--------------------+-----------+-------------+-----------+-----+-----------------+--------------------+--------------------+-----------+----+----------------+\n",
      "only showing top 20 rows"
     ]
    }
   ],
   "source": [
    "df_electronics.show()"
   ]
  },
  {
   "cell_type": "markdown",
   "metadata": {
    "execution": {
     "iopub.execute_input": "2022-04-09T00:52:20.952602Z",
     "iopub.status.busy": "2022-04-09T00:52:20.952317Z",
     "iopub.status.idle": "2022-04-09T00:52:21.019416Z",
     "shell.execute_reply": "2022-04-09T00:52:21.018480Z",
     "shell.execute_reply.started": "2022-04-09T00:52:20.952569Z"
    }
   },
   "source": [
    "Como no hemos indicado antes el cuenteo total de elementos lo hacemos ahora."
   ]
  },
  {
   "cell_type": "code",
   "execution_count": 34,
   "metadata": {
    "execution": {
     "iopub.execute_input": "2022-04-09T00:51:46.644727Z",
     "iopub.status.busy": "2022-04-09T00:51:46.644442Z",
     "iopub.status.idle": "2022-04-09T00:52:04.004965Z",
     "shell.execute_reply": "2022-04-09T00:52:04.004051Z",
     "shell.execute_reply.started": "2022-04-09T00:51:46.644694Z"
    },
    "tags": []
   },
   "outputs": [
    {
     "data": {
      "application/vnd.jupyter.widget-view+json": {
       "model_id": "bbfd76a8231c46ef8b411f9bb14b1064",
       "version_major": 2,
       "version_minor": 0
      },
      "text/plain": [
       "VBox()"
      ]
     },
     "metadata": {},
     "output_type": "display_data"
    },
    {
     "data": {
      "application/vnd.jupyter.widget-view+json": {
       "model_id": "",
       "version_major": 2,
       "version_minor": 0
      },
      "text/plain": [
       "FloatProgress(value=0.0, bar_style='info', description='Progress:', layout=Layout(height='25px', width='50%'),…"
      ]
     },
     "metadata": {},
     "output_type": "display_data"
    },
    {
     "name": "stdout",
     "output_type": "stream",
     "text": [
      "3105238"
     ]
    }
   ],
   "source": [
    "df_electronics.count()"
   ]
  },
  {
   "cell_type": "markdown",
   "metadata": {
    "execution": {
     "iopub.execute_input": "2022-04-19T19:32:52.390473Z",
     "iopub.status.busy": "2022-04-19T19:32:52.390187Z",
     "iopub.status.idle": "2022-04-19T19:32:52.457668Z",
     "shell.execute_reply": "2022-04-19T19:32:52.456818Z",
     "shell.execute_reply.started": "2022-04-19T19:32:52.390441Z"
    }
   },
   "source": [
    "Guardamos en S3 este dataframe."
   ]
  },
  {
   "cell_type": "code",
   "execution_count": 42,
   "metadata": {
    "execution": {
     "iopub.execute_input": "2022-04-09T00:58:03.214767Z",
     "iopub.status.busy": "2022-04-09T00:58:03.214489Z",
     "iopub.status.idle": "2022-04-09T00:58:38.606499Z",
     "shell.execute_reply": "2022-04-09T00:58:38.605439Z",
     "shell.execute_reply.started": "2022-04-09T00:58:03.214735Z"
    },
    "tags": []
   },
   "outputs": [
    {
     "data": {
      "application/vnd.jupyter.widget-view+json": {
       "model_id": "c0269d5fc7c5465c96dbef0a45c6f6db",
       "version_major": 2,
       "version_minor": 0
      },
      "text/plain": [
       "VBox()"
      ]
     },
     "metadata": {},
     "output_type": "display_data"
    },
    {
     "data": {
      "application/vnd.jupyter.widget-view+json": {
       "model_id": "",
       "version_major": 2,
       "version_minor": 0
      },
      "text/plain": [
       "FloatProgress(value=0.0, bar_style='info', description='Progress:', layout=Layout(height='25px', width='50%'),…"
      ]
     },
     "metadata": {},
     "output_type": "display_data"
    }
   ],
   "source": [
    "(\n",
    "    df_electronics\n",
    "        .write\n",
    "        .format(\"parquet\")\n",
    "        .option(\"path\", f\"s3://alex-spark/Proyecto_consolidacion/data_electronics\")\n",
    "        .saveAsTable(\"data_electronics\")\n",
    ")\n"
   ]
  },
  {
   "cell_type": "markdown",
   "metadata": {},
   "source": [
    "Una vez guardado, lo abrimos y comprobamos que efectivamente se trata del **mismo dataframe**."
   ]
  },
  {
   "cell_type": "code",
   "execution_count": 7,
   "metadata": {
    "execution": {
     "iopub.execute_input": "2022-04-19T18:18:53.515146Z",
     "iopub.status.busy": "2022-04-19T18:18:53.514838Z",
     "iopub.status.idle": "2022-04-19T18:18:55.827222Z",
     "shell.execute_reply": "2022-04-19T18:18:55.826274Z",
     "shell.execute_reply.started": "2022-04-19T18:18:53.515094Z"
    },
    "tags": []
   },
   "outputs": [
    {
     "data": {
      "application/vnd.jupyter.widget-view+json": {
       "model_id": "7931d14fe6074690bb224dc4198a25d9",
       "version_major": 2,
       "version_minor": 0
      },
      "text/plain": [
       "VBox()"
      ]
     },
     "metadata": {},
     "output_type": "display_data"
    },
    {
     "data": {
      "application/vnd.jupyter.widget-view+json": {
       "model_id": "",
       "version_major": 2,
       "version_minor": 0
      },
      "text/plain": [
       "FloatProgress(value=0.0, bar_style='info', description='Progress:', layout=Layout(height='25px', width='50%'),…"
      ]
     },
     "metadata": {},
     "output_type": "display_data"
    }
   ],
   "source": [
    "df_electronics_def = (\n",
    "    spark\n",
    "        .read\n",
    "        .format(\"parquet\")\n",
    "        .option(\"header\", True)\n",
    "        .load(f\"s3://alex-spark/Proyecto_consolidacion/data_electronics\")\n",
    ")"
   ]
  },
  {
   "cell_type": "code",
   "execution_count": 46,
   "metadata": {
    "execution": {
     "iopub.execute_input": "2022-04-09T00:59:02.630489Z",
     "iopub.status.busy": "2022-04-09T00:59:02.630215Z",
     "iopub.status.idle": "2022-04-09T00:59:04.931330Z",
     "shell.execute_reply": "2022-04-09T00:59:04.929716Z",
     "shell.execute_reply.started": "2022-04-09T00:59:02.630457Z"
    },
    "tags": []
   },
   "outputs": [
    {
     "data": {
      "application/vnd.jupyter.widget-view+json": {
       "model_id": "5d63fc7c307a469da02d64124ca0ef1c",
       "version_major": 2,
       "version_minor": 0
      },
      "text/plain": [
       "VBox()"
      ]
     },
     "metadata": {},
     "output_type": "display_data"
    },
    {
     "data": {
      "application/vnd.jupyter.widget-view+json": {
       "model_id": "",
       "version_major": 2,
       "version_minor": 0
      },
      "text/plain": [
       "FloatProgress(value=0.0, bar_style='info', description='Progress:', layout=Layout(height='25px', width='50%'),…"
      ]
     },
     "metadata": {},
     "output_type": "display_data"
    },
    {
     "name": "stdout",
     "output_type": "stream",
     "text": [
      "+-----------+--------------+----------+--------------------+-----------+-------------+-----------+-----+-----------------+--------------------+--------------------+-----------+----+----------------+\n",
      "|marketplace|     review_id|product_id|       product_title|star_rating|helpful_votes|total_votes| vine|verified_purchase|     review_headline|         review_body|review_date|year|product_category|\n",
      "+-----------+--------------+----------+--------------------+-----------+-------------+-----------+-----+-----------------+--------------------+--------------------+-----------+----+----------------+\n",
      "|         US|R2RX7KLOQQ5VBG|B00000JBAT|Diamond Rio Digit...|          3|            0|          0|false|            false|Why just 30 minutes?|RIO is really gre...| 1999-06-22|1999|     Electronics|\n",
      "|         US| RPHMRNCGZF2HN|B001BRPLZU|NG 283220 AC Adap...|          5|            0|          0|false|             true|          Five Stars|Great quality for...| 2014-11-17|2014|     Electronics|\n",
      "|         US|R3PD79H9CTER8U|B00000JBAT|Diamond Rio Digit...|          5|            1|          2|false|            false|The digital audio...|One of several fi...| 1999-06-30|1999|     Electronics|\n",
      "|         US|R3U6UVNH7HGDMS|B009CY43DK|HDE Mini Portable...|          5|            0|          0|false|             true|          Five Stars|I like it, got so...| 2014-11-17|2014|     Electronics|\n",
      "|         US|R3SP31LN235GV3|B00000JBSN|JVC FS-7000 Execu...|          3|            5|          5|false|            false|Design flaws ruin...|I returned mine f...| 1999-07-13|1999|     Electronics|\n",
      "|         US|R1IYAZPPTRJF7E|B005LQ83EI|BlueRigger High S...|          3|            0|          0|false|             true|Never got around ...|Never got around ...| 2014-11-17|2014|     Electronics|\n",
      "|         US| RDYOBX7A6YZ2X|B00000JHYS|Rio PMP 300 Speci...|          4|            0|          0|false|            false| Might want to wait.|I really like the...| 1999-07-16|1999|     Electronics|\n",
      "|         US|R3RDD9FILG1LSN|B00CVB12RG|Brookstone 2.4GHz...|          5|            3|          3|false|             true|Saved my. marriag...|Saved my.marriage...| 2014-11-17|2014|     Electronics|\n",
      "|         US|R31I45LN3W8UUM|B00000J1SI|GPX C3860 Portabl...|          5|            8|          9|false|            false|LOW PRICE GOOD VALUE|Very Good Product...| 1999-07-17|1999|     Electronics|\n",
      "|         US|R2RVEE19EN94YK|B00JAYS824|ABLEGRID Trademar...|          5|            0|          0|false|             true|          Five Stars|thanks to this i ...| 2014-11-17|2014|     Electronics|\n",
      "|         US|R1FCT9FU5SNC10|B00000JDKE|Sony STR-DE525 Su...|          4|           20|         21|false|            false|STR-DE525 an over...|I've had this rec...| 1999-07-19|1999|     Electronics|\n",
      "|         US|R3LVBXXUNZC51Z|B001TIG36C|VideoSecu Mounts ...|          5|            0|          0|false|             true|but it worked per...|I only used half ...| 2014-11-17|2014|     Electronics|\n",
      "|         US|R3EOIZ0USWYGGJ|B00000JBSN|JVC FS-7000 Execu...|          5|            5|          5|false|            false|Incredible Sound ...|This is a absolut...| 1999-08-06|1999|     Electronics|\n",
      "|         US|R351BROAGZBM1E|B00KC00OOA|2 Efest Purple IM...|          5|            5|          5|false|             true|Quality and long ...|These batteries t...| 2014-11-17|2014|     Electronics|\n",
      "|         US|R3HM8AQLMWU2XZ|B00000JBAT|Diamond Rio Digit...|          5|            0|          0|false|            false|The wave of the f...|Someday everythin...| 1999-08-09|1999|     Electronics|\n",
      "|         US|R2CHXHVFA59AYS|B001078FV8|niceEshop(TM) 2.5...|          1|            0|          0|false|             true|Even though they ...|Even though they ...| 2014-11-17|2014|     Electronics|\n",
      "|         US|R11NUPY1HK6EB5|B00000J4BL|Recoton TV3000 Lo...|          1|           13|         14|false|            false|         Poor choice|This is the sixth...| 1999-08-14|1999|     Electronics|\n",
      "|         US|R3H94NFATP207A|B000STIZXW|Monster Cable MPA...|          3|            0|          0|false|             true|Easy to unpluged ...|The ideal thing t...| 2014-11-17|2014|     Electronics|\n",
      "|         US|R12ASZFB1WDEZP|B00000JBPB|GPX C3948BI Ultra...|          5|            4|          6|false|            false|     BUY THIS!!!!!!!|I just got this n...| 1999-08-16|1999|     Electronics|\n",
      "|         US|R33FOC8ANDPZSY|B007SNQRBI|Generic Replaceme...|          5|            0|          0|false|             true|          Five Stars|           excellent| 2014-11-17|2014|     Electronics|\n",
      "+-----------+--------------+----------+--------------------+-----------+-------------+-----------+-----+-----------------+--------------------+--------------------+-----------+----+----------------+\n",
      "only showing top 20 rows"
     ]
    }
   ],
   "source": [
    "df_electronics_def.show()"
   ]
  },
  {
   "cell_type": "markdown",
   "metadata": {
    "tags": []
   },
   "source": [
    "## Análisis exploratorio inicial"
   ]
  },
  {
   "cell_type": "markdown",
   "metadata": {},
   "source": [
    "### Pregunta 1: Cuenta el total de artículos conforme al número de estrellas recibidas"
   ]
  },
  {
   "cell_type": "code",
   "execution_count": 47,
   "metadata": {
    "execution": {
     "iopub.execute_input": "2022-04-09T00:59:55.408760Z",
     "iopub.status.busy": "2022-04-09T00:59:55.408478Z",
     "iopub.status.idle": "2022-04-09T00:59:58.708514Z",
     "shell.execute_reply": "2022-04-09T00:59:58.707541Z",
     "shell.execute_reply.started": "2022-04-09T00:59:55.408728Z"
    },
    "tags": []
   },
   "outputs": [
    {
     "data": {
      "application/vnd.jupyter.widget-view+json": {
       "model_id": "5137479660bb48d1aa5d9c2d96aa2b5a",
       "version_major": 2,
       "version_minor": 0
      },
      "text/plain": [
       "VBox()"
      ]
     },
     "metadata": {},
     "output_type": "display_data"
    },
    {
     "data": {
      "application/vnd.jupyter.widget-view+json": {
       "model_id": "",
       "version_major": 2,
       "version_minor": 0
      },
      "text/plain": [
       "FloatProgress(value=0.0, bar_style='info', description='Progress:', layout=Layout(height='25px', width='50%'),…"
      ]
     },
     "metadata": {},
     "output_type": "display_data"
    },
    {
     "name": "stdout",
     "output_type": "stream",
     "text": [
      "+-----------+--------------+\n",
      "|star_rating|total_products|\n",
      "+-----------+--------------+\n",
      "|          1|        359269|\n",
      "|          2|        179839|\n",
      "|          3|        239467|\n",
      "|          4|        538835|\n",
      "|          5|       1787828|\n",
      "+-----------+--------------+"
     ]
    }
   ],
   "source": [
    "(\n",
    "    df_electronics_def\n",
    "    .select(\"product_title\", \"star_rating\")\n",
    "    .groupBy(\"star_rating\")\n",
    "    .agg(\n",
    "        f.count(\"product_title\").alias(\"total_products\") \n",
    "    )\n",
    "    .orderBy(\"star_rating\")\n",
    "    .show()\n",
    ")"
   ]
  },
  {
   "cell_type": "markdown",
   "metadata": {},
   "source": [
    "**Destacan mayoritariamente respecto al resto los productos calificados con 5 estrellas**, seguidos de los que les puntuaron con 4 estrellas. Los valores entre 2 y 3 estrellas son los que menos productos tienen asociados."
   ]
  },
  {
   "cell_type": "markdown",
   "metadata": {},
   "source": [
    "### Pregunta 2: Obtén los 10 productos más votados mostrando su nombre, numero de votos y valoración media"
   ]
  },
  {
   "cell_type": "code",
   "execution_count": 48,
   "metadata": {
    "execution": {
     "iopub.execute_input": "2022-04-09T01:02:27.505005Z",
     "iopub.status.busy": "2022-04-09T01:02:27.504716Z",
     "iopub.status.idle": "2022-04-09T01:02:44.848493Z",
     "shell.execute_reply": "2022-04-09T01:02:44.847507Z",
     "shell.execute_reply.started": "2022-04-09T01:02:27.504971Z"
    },
    "tags": []
   },
   "outputs": [
    {
     "data": {
      "application/vnd.jupyter.widget-view+json": {
       "model_id": "805250c65bec496887d4f97cf05e685e",
       "version_major": 2,
       "version_minor": 0
      },
      "text/plain": [
       "VBox()"
      ]
     },
     "metadata": {},
     "output_type": "display_data"
    },
    {
     "data": {
      "application/vnd.jupyter.widget-view+json": {
       "model_id": "",
       "version_major": 2,
       "version_minor": 0
      },
      "text/plain": [
       "FloatProgress(value=0.0, bar_style='info', description='Progress:', layout=Layout(height='25px', width='50%'),…"
      ]
     },
     "metadata": {},
     "output_type": "display_data"
    },
    {
     "name": "stdout",
     "output_type": "stream",
     "text": [
      "+-------------------------------------------------------------------------------------------------------------------------------------------------------------------------------------------------------------+-----------+-----------------+\n",
      "|product_title                                                                                                                                                                                                |total_votes|rating_mean_round|\n",
      "+-------------------------------------------------------------------------------------------------------------------------------------------------------------------------------------------------------------+-----------+-----------------+\n",
      "|Panasonic ErgoFit In-Ear Earbud Headphone                                                                                                                                                                    |24833      |4.41             |\n",
      "|AmazonBasics High-Speed HDMI Cable - 6.5 Feet (2 Meters) Supports Ethernet, 3D, 4K and Audio Return                                                                                                          |16163      |4.71             |\n",
      "|Mediabridge ULTRA Series HDMI Cable (3 Foot) - High-Speed Supports Ethernet, 3D and Audio Return [Newest Standard]                                                                                           |15675      |4.76             |\n",
      "|Clip Plus 4 GB MP3 Player (Black)                                                                                                                                                                            |11779      |3.81             |\n",
      "|High Speed HDMI Cable (1.5 Feet) With Ethernet - CL3 Certified - Supports 3D and Audio Return Channel, 1-Pack                                                                                                |11177      |4.46             |\n",
      "|AmazonBasics High Speed HDMI Cable                                                                                                                                                                           |10740      |4.75             |\n",
      "|VideoSecu ML531BE TV Wall Mount for most 22\"-55\" LED LCD Plasma Flat Screen Monitor up to 88 lb VESA 400x400 with Full Motion Swivel Articulating 20 in Extension Arm, HDMI Cable & Bubble Level WP5         |10214      |4.6              |\n",
      "|CABTE High speed HDMI 1.4 HDMI cable 10ft 1080p with mesh&filters supports 3D&blue ray                                                                                                                       |9923       |4.72             |\n",
      "|Cheetah APTMM2B TV Wall Mount for 20-75\" TVs up to VESA 600 and 165lbs, and fits 16” And 24” Wall Studs, and includes a Tilt TV Bracket, a 10' Twisted Veins HDMI Cable and a 6\" 3-Axis Magnetic Bubble Level|9364       |4.41             |\n",
      "|Sennheiser On-Ear 926MHz Wireless RF Headphones with Charging Cradle                                                                                                                                         |9103       |4.04             |\n",
      "+-------------------------------------------------------------------------------------------------------------------------------------------------------------------------------------------------------------+-----------+-----------------+\n",
      "only showing top 10 rows"
     ]
    }
   ],
   "source": [
    "(\n",
    "  df_electronics_def\n",
    "    .groupBy(\"product_title\")\n",
    "    .agg(\n",
    "        count(\"total_votes\").alias(\"total_votes\"),\n",
    "         f.mean(\"star_rating\").alias(\"rating_mean\"))\n",
    "     .withColumn(\"rating_mean_round\", f.round(\"rating_mean\", 2))\n",
    "     .drop(\"rating_mean\")\n",
    "    .orderBy(\"total_votes\", ascending = False)\n",
    "    .show(10, False)\n",
    "    \n",
    ")         "
   ]
  },
  {
   "cell_type": "markdown",
   "metadata": {},
   "source": [
    "Exceptuando el `Clip Plus 4 GB MP3 Player (Black)` **todos tienen una muy buena valoración siendo los más votados**, especialmente el `AmazonBasics High-Speed HDMI Cable - 6.5 Feet (2 Meters) Supports Ethernet, 3D, 4K and Audio Return` el cual por cierto como se ve es una variación del `AmazonBasics High Speed HDMI Cable` que también aparece como el sexto más votado y con una puntuación bastante elevada."
   ]
  },
  {
   "cell_type": "markdown",
   "metadata": {},
   "source": [
    "### Pregunta 3: Obtén la cantidad de reviews por mes y año y su valoración media"
   ]
  },
  {
   "cell_type": "code",
   "execution_count": 49,
   "metadata": {
    "execution": {
     "iopub.execute_input": "2022-04-09T01:13:06.699329Z",
     "iopub.status.busy": "2022-04-09T01:13:06.699030Z",
     "iopub.status.idle": "2022-04-09T01:13:20.208629Z",
     "shell.execute_reply": "2022-04-09T01:13:20.207704Z",
     "shell.execute_reply.started": "2022-04-09T01:13:06.699279Z"
    },
    "tags": []
   },
   "outputs": [
    {
     "data": {
      "application/vnd.jupyter.widget-view+json": {
       "model_id": "29d96728a2b241208fdf0d040a40a45b",
       "version_major": 2,
       "version_minor": 0
      },
      "text/plain": [
       "VBox()"
      ]
     },
     "metadata": {},
     "output_type": "display_data"
    },
    {
     "data": {
      "application/vnd.jupyter.widget-view+json": {
       "model_id": "",
       "version_major": 2,
       "version_minor": 0
      },
      "text/plain": [
       "FloatProgress(value=0.0, bar_style='info', description='Progress:', layout=Layout(height='25px', width='50%'),…"
      ]
     },
     "metadata": {},
     "output_type": "display_data"
    },
    {
     "name": "stdout",
     "output_type": "stream",
     "text": [
      "+-----+------------+-----------------+\n",
      "|Month|rating_count|rating_mean_round|\n",
      "+-----+------------+-----------------+\n",
      "|    1|      350222|             4.07|\n",
      "|    2|      282347|             4.05|\n",
      "|    3|      282857|             4.05|\n",
      "|    4|      242984|             4.03|\n",
      "|    5|      238223|             4.03|\n",
      "|    6|      239647|             4.02|\n",
      "|    7|      287271|             4.05|\n",
      "|    8|      297853|             4.05|\n",
      "|    9|      187226|             4.01|\n",
      "|   10|      192889|             4.01|\n",
      "|   11|      204414|             4.01|\n",
      "|   12|      299305|             4.03|\n",
      "+-----+------------+-----------------+"
     ]
    }
   ],
   "source": [
    "(\n",
    "   df_electronics_def\n",
    "       .withColumn(\"Month\", f.month(f.col(\"review_date\")))\n",
    "       .groupBy(\"Month\")\n",
    "       .agg(f.count(\"star_rating\").alias(\"rating_count\"),\n",
    "            f.mean(\"star_rating\").alias(\"rating_mean\"))\n",
    "       .orderBy(\"Month\")\n",
    "       .withColumn(\"rating_mean_round\", round(\"rating_mean\", 2))\n",
    "       .drop(\"rating_mean\")\n",
    "       .show()\n",
    ")"
   ]
  },
  {
   "cell_type": "markdown",
   "metadata": {},
   "source": [
    "Respecto al análisis por meses tenemos estos resultados:\n",
    "\n",
    "- Donde más reviews se hacen son en **enero**, seguramente coincidiendo con la valoración de los productos que han comprado o les han regalado durante las Navidades. Por el contrario, los meses con menos reviews corresponden a **septiembre, octubre y noviembre**.\n",
    "\n",
    "- **Apenas hay variación en la valoración media** que oscila entre el 4 y el 4,1 de puntuación. "
   ]
  },
  {
   "cell_type": "code",
   "execution_count": 50,
   "metadata": {
    "execution": {
     "iopub.execute_input": "2022-04-09T01:13:20.209860Z",
     "iopub.status.busy": "2022-04-09T01:13:20.209660Z",
     "iopub.status.idle": "2022-04-09T01:13:21.490580Z",
     "shell.execute_reply": "2022-04-09T01:13:21.489481Z",
     "shell.execute_reply.started": "2022-04-09T01:13:20.209830Z"
    },
    "tags": []
   },
   "outputs": [
    {
     "data": {
      "application/vnd.jupyter.widget-view+json": {
       "model_id": "96487af4741a4f43be44a2e02a82eac9",
       "version_major": 2,
       "version_minor": 0
      },
      "text/plain": [
       "VBox()"
      ]
     },
     "metadata": {},
     "output_type": "display_data"
    },
    {
     "data": {
      "application/vnd.jupyter.widget-view+json": {
       "model_id": "",
       "version_major": 2,
       "version_minor": 0
      },
      "text/plain": [
       "FloatProgress(value=0.0, bar_style='info', description='Progress:', layout=Layout(height='25px', width='50%'),…"
      ]
     },
     "metadata": {},
     "output_type": "display_data"
    },
    {
     "name": "stdout",
     "output_type": "stream",
     "text": [
      "+----+------------+-----------------+\n",
      "|year|rating_count|rating_mean_round|\n",
      "+----+------------+-----------------+\n",
      "|1999|         701|              3.9|\n",
      "|2000|        4443|             3.97|\n",
      "|2001|        5483|             3.74|\n",
      "|2002|        7179|             3.62|\n",
      "|2003|        9832|             3.61|\n",
      "|2004|       12601|             3.53|\n",
      "|2005|       20104|             3.64|\n",
      "|2006|       29596|              3.7|\n",
      "|2007|       61414|             3.94|\n",
      "|2008|       71312|             3.93|\n",
      "|2009|       91386|             3.92|\n",
      "|2010|      124245|              3.9|\n",
      "|2011|      188301|             3.91|\n",
      "|2012|      270448|             3.98|\n",
      "|2013|      559101|             4.06|\n",
      "|2014|      835689|             4.08|\n",
      "|2015|      813403|             4.11|\n",
      "+----+------------+-----------------+"
     ]
    }
   ],
   "source": [
    "(\n",
    "   df_electronics_def\n",
    "       .groupBy(\"year\")\n",
    "       .agg(f.count(\"star_rating\").alias(\"rating_count\"),\n",
    "            f.mean(\"star_rating\").alias(\"rating_mean\"))\n",
    "       .orderBy(\"year\")\n",
    "       .withColumn(\"rating_mean_round\", round(\"rating_mean\", 2))\n",
    "       .drop(\"rating_mean\")\n",
    "       .show()\n",
    ")"
   ]
  },
  {
   "cell_type": "markdown",
   "metadata": {},
   "source": [
    "Respecto a los años sacamos dos conclusiones:\n",
    "    \n",
    "- Como era de esperar con la globalización y el acceso a internet, **el número total de reviews ha ido incrementándose a lo largo de los años progresivamente**. No obstante, es curioso que **en 2014 el número de reviews se duplicó a las de 2013, siendo incluso más altas que en 2015**. Eso último puede ser un indicativo de que estos incrementos de reviews se estén estabilizando (faltaría saber cómo ha variado en años futuros).\n",
    "\n",
    "- Al principio la valoración fue disminuyendo, pero **desde 2007 se ha ido moviendo entre el 3,9 y el 4,11**. Desde **2011** las valoraciones van a la alza."
   ]
  },
  {
   "cell_type": "markdown",
   "metadata": {},
   "source": [
    "### Pregunta 4: Obtén la longitud media, mínima y máxima de la review agrupado por la cantidad de votos de respuesta útil recibidos (helpful_votes), ordenala según el número de votos recibidos\n",
    "\n",
    "__Pistas:__\n",
    "    - Separar por palabras la descripcion (split)\n",
    "    - Contar el tamaño del vector resultante (size)"
   ]
  },
  {
   "cell_type": "code",
   "execution_count": 12,
   "metadata": {
    "execution": {
     "iopub.execute_input": "2022-04-10T11:33:01.098840Z",
     "iopub.status.busy": "2022-04-10T11:33:01.098560Z",
     "iopub.status.idle": "2022-04-10T11:33:16.508880Z",
     "shell.execute_reply": "2022-04-10T11:33:16.507992Z",
     "shell.execute_reply.started": "2022-04-10T11:33:01.098802Z"
    },
    "tags": []
   },
   "outputs": [
    {
     "data": {
      "application/vnd.jupyter.widget-view+json": {
       "model_id": "5e1af7a0b9884fb2bd68c9b063e32d61",
       "version_major": 2,
       "version_minor": 0
      },
      "text/plain": [
       "VBox()"
      ]
     },
     "metadata": {},
     "output_type": "display_data"
    },
    {
     "data": {
      "application/vnd.jupyter.widget-view+json": {
       "model_id": "",
       "version_major": 2,
       "version_minor": 0
      },
      "text/plain": [
       "FloatProgress(value=0.0, bar_style='info', description='Progress:', layout=Layout(height='25px', width='50%'),…"
      ]
     },
     "metadata": {},
     "output_type": "display_data"
    },
    {
     "name": "stdout",
     "output_type": "stream",
     "text": [
      "+-------------+---------------+---------------+-----------+----------------------+\n",
      "|helpful_votes|review_size_min|review_size_max|total_votes|review_size_mean_round|\n",
      "+-------------+---------------+---------------+-----------+----------------------+\n",
      "|            0|              1|           5915|    2098640|                  46.0|\n",
      "|            1|              1|           5986|     472080|                  81.0|\n",
      "|            2|              1|           7405|     173742|                 109.0|\n",
      "|            3|              1|           3986|      91988|                 130.0|\n",
      "|            4|              1|           5413|      56122|                 144.0|\n",
      "|            5|              1|           3529|      38082|                 156.0|\n",
      "|            6|              1|           5694|      27120|                 165.0|\n",
      "|            7|              1|           5122|      20294|                 173.0|\n",
      "|            8|              1|           5491|      15539|                 182.0|\n",
      "|            9|              1|           4502|      12576|                 191.0|\n",
      "|           10|              1|           3954|      10238|                 194.0|\n",
      "|           11|              1|           8257|       8574|                 201.0|\n",
      "|           12|              1|           5113|       7106|                 207.0|\n",
      "|           13|              1|           4594|       6058|                 214.0|\n",
      "|           14|              1|           7587|       5234|                 215.0|\n",
      "|           15|              1|           5329|       4553|                 223.0|\n",
      "|           16|              1|           8253|       4009|                 228.0|\n",
      "|           17|              1|           7722|       3617|                 238.0|\n",
      "|           18|              1|           4731|       3114|                 230.0|\n",
      "|           19|              1|           8374|       2715|                 245.0|\n",
      "+-------------+---------------+---------------+-----------+----------------------+\n",
      "only showing top 20 rows"
     ]
    }
   ],
   "source": [
    "(\n",
    "    df_electronics_def\n",
    "    .select(\"review_body\", \"total_votes\",\"helpful_votes\")\n",
    "    .withColumn(\"review_body_split\", f.split(df_electronics_def.review_body,\" \"))\n",
    "    .withColumn(\"review_size\",f.size(col(\"review_body_split\")))\n",
    "    .groupBy(\"helpful_votes\")\n",
    "    .agg(\n",
    "    f.mean(\"review_size\").alias(\"review_size_mean\"),\n",
    "    f.min(\"review_size\").alias(\"review_size_min\"),\n",
    "    f.max(\"review_size\").alias(\"review_size_max\"),\n",
    "    f.count(\"total_votes\").alias(\"total_votes\")\n",
    "    )\n",
    "    .orderBy(\"total_votes\", ascending = False)\n",
    "    \n",
    "    # Eliminamos los decimales para aproximar el número exacto de palabras medias \n",
    "    \n",
    "    .withColumn(\"review_size_mean_round\", round(\"review_size_mean\", 0))\n",
    "    .drop(\"review_size_mean\")\n",
    "    .show()\n",
    ")"
   ]
  },
  {
   "cell_type": "markdown",
   "metadata": {},
   "source": [
    "Lo único a destacar de este punto es que a medida que las reviews cuentan con mayor número de votos de respuesta útil recibidos, **el número total de votoso recibidos disminuye y la media de palabras por review aumenta**."
   ]
  },
  {
   "cell_type": "markdown",
   "metadata": {},
   "source": [
    "### Pregunta 5: Obtén la cantidad de reviews para cada una de las posibles valoraciones (star_rating), ¿crees que si quisiéramos implementar un modelo para predecir el precio de nuevos productos tendríamos algún problema?"
   ]
  },
  {
   "cell_type": "code",
   "execution_count": 52,
   "metadata": {
    "execution": {
     "iopub.execute_input": "2022-04-09T01:14:27.009288Z",
     "iopub.status.busy": "2022-04-09T01:14:27.009005Z",
     "iopub.status.idle": "2022-04-09T01:14:28.300940Z",
     "shell.execute_reply": "2022-04-09T01:14:28.299982Z",
     "shell.execute_reply.started": "2022-04-09T01:14:27.009255Z"
    }
   },
   "outputs": [
    {
     "data": {
      "application/vnd.jupyter.widget-view+json": {
       "model_id": "65fa389532894e638a19cd81435d2318",
       "version_major": 2,
       "version_minor": 0
      },
      "text/plain": [
       "VBox()"
      ]
     },
     "metadata": {},
     "output_type": "display_data"
    },
    {
     "data": {
      "application/vnd.jupyter.widget-view+json": {
       "model_id": "",
       "version_major": 2,
       "version_minor": 0
      },
      "text/plain": [
       "FloatProgress(value=0.0, bar_style='info', description='Progress:', layout=Layout(height='25px', width='50%'),…"
      ]
     },
     "metadata": {},
     "output_type": "display_data"
    },
    {
     "name": "stdout",
     "output_type": "stream",
     "text": [
      "+-----------+-------------+\n",
      "|star_rating|total_reviews|\n",
      "+-----------+-------------+\n",
      "|          1|       359269|\n",
      "|          2|       179839|\n",
      "|          3|       239467|\n",
      "|          4|       538835|\n",
      "|          5|      1787828|\n",
      "+-----------+-------------+"
     ]
    }
   ],
   "source": [
    "(\n",
    "    df_electronics_def\n",
    "    .select(\"review_headline\", \"star_rating\")\n",
    "    .groupBy(\"star_rating\")\n",
    "    .agg(\n",
    "        f.count(\"review_headline\").alias(\"total_reviews\") \n",
    "    )\n",
    "    .orderBy(\"star_rating\")\n",
    "    .show()\n",
    ")"
   ]
  },
  {
   "cell_type": "markdown",
   "metadata": {},
   "source": [
    "Como se puede apreciar, el resultado es idéntico al expuesto en la pregunta 1. Esto es así porque **cada review o reviews se asocian a sus respectivos productos**, por lo que el número total de reviews para cada calificación siempre va a coincidir con el número total de productos."
   ]
  },
  {
   "cell_type": "markdown",
   "metadata": {},
   "source": [
    "## Transformaciones básicas de algunos campos"
   ]
  },
  {
   "cell_type": "markdown",
   "metadata": {},
   "source": [
    "### Pregunta: Quita de los campos que contienen descripciones del contenido de la review aquellos caracteres que no aportan información, como !, [, o las etiquetas HTML"
   ]
  },
  {
   "cell_type": "markdown",
   "metadata": {},
   "source": [
    "Veamos como actualmente se ven `review_body` y `review_headline`. "
   ]
  },
  {
   "cell_type": "code",
   "execution_count": 17,
   "metadata": {
    "execution": {
     "iopub.execute_input": "2022-04-10T11:49:28.970998Z",
     "iopub.status.busy": "2022-04-10T11:49:28.970593Z",
     "iopub.status.idle": "2022-04-10T11:49:31.315979Z",
     "shell.execute_reply": "2022-04-10T11:49:31.315151Z",
     "shell.execute_reply.started": "2022-04-10T11:49:28.970950Z"
    },
    "tags": []
   },
   "outputs": [
    {
     "data": {
      "application/vnd.jupyter.widget-view+json": {
       "model_id": "42e3ae8611ec420abdeb63bdb9509107",
       "version_major": 2,
       "version_minor": 0
      },
      "text/plain": [
       "VBox()"
      ]
     },
     "metadata": {},
     "output_type": "display_data"
    },
    {
     "data": {
      "application/vnd.jupyter.widget-view+json": {
       "model_id": "",
       "version_major": 2,
       "version_minor": 0
      },
      "text/plain": [
       "FloatProgress(value=0.0, bar_style='info', description='Progress:', layout=Layout(height='25px', width='50%'),…"
      ]
     },
     "metadata": {},
     "output_type": "display_data"
    },
    {
     "name": "stdout",
     "output_type": "stream",
     "text": [
      "+--------------------+--------------------+\n",
      "|         review_body|     review_headline|\n",
      "+--------------------+--------------------+\n",
      "|RIO is really gre...|Why just 30 minutes?|\n",
      "|Great quality for...|          Five Stars|\n",
      "|One of several fi...|The digital audio...|\n",
      "|I like it, got so...|          Five Stars|\n",
      "|I returned mine f...|Design flaws ruin...|\n",
      "|Never got around ...|Never got around ...|\n",
      "|I really like the...| Might want to wait.|\n",
      "|Saved my.marriage...|Saved my. marriag...|\n",
      "|Very Good Product...|LOW PRICE GOOD VALUE|\n",
      "|thanks to this i ...|          Five Stars|\n",
      "|I've had this rec...|STR-DE525 an over...|\n",
      "|I only used half ...|but it worked per...|\n",
      "|This is a absolut...|Incredible Sound ...|\n",
      "|These batteries t...|Quality and long ...|\n",
      "|Someday everythin...|The wave of the f...|\n",
      "|Even though they ...|Even though they ...|\n",
      "|This is the sixth...|         Poor choice|\n",
      "|The ideal thing t...|Easy to unpluged ...|\n",
      "|I just got this n...|     BUY THIS!!!!!!!|\n",
      "|           excellent|          Five Stars|\n",
      "+--------------------+--------------------+\n",
      "only showing top 20 rows"
     ]
    }
   ],
   "source": [
    "(\n",
    "    df_electronics_def\n",
    "    .select(\"review_body\", \"review_headline\")\n",
    "    .show()\n",
    ")"
   ]
  },
  {
   "cell_type": "markdown",
   "metadata": {},
   "source": [
    "Aunque no podemos ver las reviews en su totalidad (al intentar ponerlas enteras no se podrían apreciar sin hacer la pantalla excesivamente pequeña lo que lo haría imposible de leer) al menos vemos que **una review tiene signos de exclamación**, signo el cual queremos eliminar."
   ]
  },
  {
   "cell_type": "code",
   "execution_count": 18,
   "metadata": {
    "execution": {
     "iopub.execute_input": "2022-04-10T11:50:34.700230Z",
     "iopub.status.busy": "2022-04-10T11:50:34.699941Z",
     "iopub.status.idle": "2022-04-10T11:50:34.775732Z",
     "shell.execute_reply": "2022-04-10T11:50:34.774912Z",
     "shell.execute_reply.started": "2022-04-10T11:50:34.700198Z"
    },
    "tags": []
   },
   "outputs": [
    {
     "data": {
      "application/vnd.jupyter.widget-view+json": {
       "model_id": "5b51f6b3fcde470995c56b9b598caa89",
       "version_major": 2,
       "version_minor": 0
      },
      "text/plain": [
       "VBox()"
      ]
     },
     "metadata": {},
     "output_type": "display_data"
    },
    {
     "data": {
      "application/vnd.jupyter.widget-view+json": {
       "model_id": "",
       "version_major": 2,
       "version_minor": 0
      },
      "text/plain": [
       "FloatProgress(value=0.0, bar_style='info', description='Progress:', layout=Layout(height='25px', width='50%'),…"
      ]
     },
     "metadata": {},
     "output_type": "display_data"
    }
   ],
   "source": [
    "# Definimos cada regex_string con el signo que vamos a querer eliminar\n",
    "\n",
    "regex_string_exclamation = \"\\!\"\n",
    "regex_string_bracket = \"\\]\"\n",
    "regex_string_HTML = \"<[^>]+>\""
   ]
  },
  {
   "cell_type": "code",
   "execution_count": 19,
   "metadata": {
    "execution": {
     "iopub.execute_input": "2022-04-10T11:50:57.182484Z",
     "iopub.status.busy": "2022-04-10T11:50:57.182222Z",
     "iopub.status.idle": "2022-04-10T11:50:57.982726Z",
     "shell.execute_reply": "2022-04-10T11:50:57.981895Z",
     "shell.execute_reply.started": "2022-04-10T11:50:57.182453Z"
    },
    "tags": []
   },
   "outputs": [
    {
     "data": {
      "application/vnd.jupyter.widget-view+json": {
       "model_id": "bf34b5f3758f44d293c47b62d411ac83",
       "version_major": 2,
       "version_minor": 0
      },
      "text/plain": [
       "VBox()"
      ]
     },
     "metadata": {},
     "output_type": "display_data"
    },
    {
     "data": {
      "application/vnd.jupyter.widget-view+json": {
       "model_id": "",
       "version_major": 2,
       "version_minor": 0
      },
      "text/plain": [
       "FloatProgress(value=0.0, bar_style='info', description='Progress:', layout=Layout(height='25px', width='50%'),…"
      ]
     },
     "metadata": {},
     "output_type": "display_data"
    }
   ],
   "source": [
    "# Creamos un nuevo dataframe con todos estos signos eliminados\n",
    "\n",
    "df_electronics_def_cleaned = (df_electronics_def \n",
    "\n",
    "      .withColumn(\"review_body\", f.regexp_replace(f.col(\"review_body\"), regex_string_exclamation, \"\").alias(\"review_body_clean\"))\n",
    "      .withColumn(\"review_body_clean\", f.regexp_replace(f.col(\"review_body\"), \"\\\"\", \"\").alias(\"review_body_clean\"))\n",
    "    \n",
    "      .withColumn(\"review_body\", f.regexp_replace(f.col(\"review_body\"), regex_string_bracket, \"\").alias(\"review_body_clean\"))\n",
    "      .withColumn(\"review_body_clean\", f.regexp_replace(f.col(\"review_body\"), \"\\\"\", \"\").alias(\"review_body_clean\"))\n",
    "    \n",
    "    \n",
    "      .withColumn(\"review_body\", f.regexp_replace(f.col(\"review_body\"), regex_string_HTML, \"\").alias(\"review_body_clean\"))\n",
    "      .withColumn(\"review_body_clean\", f.regexp_replace(f.col(\"review_body\"), \"\\\"\", \"\").alias(\"review_body_clean\"))\n",
    "\n",
    "    \n",
    "      .withColumn(\"review_headline\", f.regexp_replace(f.col(\"review_headline\"), regex_string_exclamation, \"\").alias(\"review_headline_clean\"))\n",
    "      .withColumn(\"review_headline_clean\", f.regexp_replace(f.col(\"review_headline\"), \"\\\"\", \"\").alias(\"review_headline_clean\"))\n",
    "    \n",
    "      .withColumn(\"review_headline\", f.regexp_replace(f.col(\"review_headline\"), regex_string_bracket, \"\").alias(\"review_headline_clean\"))\n",
    "      .withColumn(\"review_headline_clean\", f.regexp_replace(f.col(\"review_headline\"), \"\\\"\", \"\").alias(\"review_headline_clean\"))\n",
    "    \n",
    "      .withColumn(\"review_headline\", f.regexp_replace(f.col(\"review_headline\"), regex_string_HTML, \"\").alias(\"review_headline_clean\"))\n",
    "      .withColumn(\"review_headline_clean\", f.regexp_replace(f.col(\"review_headline\"), \"\\\"\", \"\").alias(\"review_headline_clean\"))\n",
    "    \n",
    "      .drop(\"review_body\",\"review_headline\")\n",
    "      .select(\"review_body_clean\",\"review_headline_clean\")\n",
    "                             )"
   ]
  },
  {
   "cell_type": "markdown",
   "metadata": {
    "execution": {
     "iopub.execute_input": "2022-04-10T11:51:16.984133Z",
     "iopub.status.busy": "2022-04-10T11:51:16.983852Z",
     "iopub.status.idle": "2022-04-10T11:51:17.074953Z",
     "shell.execute_reply": "2022-04-10T11:51:17.074055Z",
     "shell.execute_reply.started": "2022-04-10T11:51:16.984101Z"
    }
   },
   "source": [
    "Veamos sí se han eliminado o no aquellos signos de exclamación."
   ]
  },
  {
   "cell_type": "code",
   "execution_count": 21,
   "metadata": {
    "execution": {
     "iopub.execute_input": "2022-04-10T11:51:17.209702Z",
     "iopub.status.busy": "2022-04-10T11:51:17.209383Z",
     "iopub.status.idle": "2022-04-10T11:51:28.569658Z",
     "shell.execute_reply": "2022-04-10T11:51:28.568798Z",
     "shell.execute_reply.started": "2022-04-10T11:51:17.209670Z"
    },
    "tags": []
   },
   "outputs": [
    {
     "data": {
      "application/vnd.jupyter.widget-view+json": {
       "model_id": "7bed93f18cbf4d2a984593242577b84c",
       "version_major": 2,
       "version_minor": 0
      },
      "text/plain": [
       "VBox()"
      ]
     },
     "metadata": {},
     "output_type": "display_data"
    },
    {
     "data": {
      "application/vnd.jupyter.widget-view+json": {
       "model_id": "",
       "version_major": 2,
       "version_minor": 0
      },
      "text/plain": [
       "FloatProgress(value=0.0, bar_style='info', description='Progress:', layout=Layout(height='25px', width='50%'),…"
      ]
     },
     "metadata": {},
     "output_type": "display_data"
    },
    {
     "name": "stdout",
     "output_type": "stream",
     "text": [
      "+--------------------+---------------------+\n",
      "|   review_body_clean|review_headline_clean|\n",
      "+--------------------+---------------------+\n",
      "|RIO is really gre...| Why just 30 minutes?|\n",
      "|Great quality for...|           Five Stars|\n",
      "|One of several fi...| The digital audio...|\n",
      "|I like it, got so...|           Five Stars|\n",
      "|I returned mine f...| Design flaws ruin...|\n",
      "|Never got around ...| Never got around ...|\n",
      "|I really like the...|  Might want to wait.|\n",
      "|Saved my.marriage...| Saved my. marriag...|\n",
      "|Very Good Product...| LOW PRICE GOOD VALUE|\n",
      "|thanks to this i ...|           Five Stars|\n",
      "|I've had this rec...| STR-DE525 an over...|\n",
      "|I only used half ...| but it worked per...|\n",
      "|This is a absolut...| Incredible Sound ...|\n",
      "|These batteries t...| Quality and long ...|\n",
      "|Someday everythin...| The wave of the f...|\n",
      "|Even though they ...| Even though they ...|\n",
      "|This is the sixth...|          Poor choice|\n",
      "|The ideal thing t...| Easy to unpluged ...|\n",
      "|I just got this n...|             BUY THIS|\n",
      "|           excellent|           Five Stars|\n",
      "+--------------------+---------------------+\n",
      "only showing top 20 rows"
     ]
    }
   ],
   "source": [
    "(\n",
    "    df_electronics_def_cleaned\n",
    "    .select(\"review_body_clean\", \"review_headline_clean\")\n",
    "    .show()\n",
    ")"
   ]
  },
  {
   "cell_type": "markdown",
   "metadata": {},
   "source": [
    "**Se han eliminado completamente** por lo que confirmamos que este nuevo dataframe está limpio de aquellos signos que no nos interesaban."
   ]
  },
  {
   "cell_type": "markdown",
   "metadata": {},
   "source": [
    "## Análisis más profundo"
   ]
  },
  {
   "cell_type": "markdown",
   "metadata": {},
   "source": [
    "### Pregunta 1: Obtén la media de calificación por categoría para aquellas compras verificadas en los mercados francés, español y alemán de los últimos 10 años"
   ]
  },
  {
   "cell_type": "markdown",
   "metadata": {},
   "source": [
    "En el data layout **no se indican explícitamente qué mercados** están en el dataset así que vamos a descubrirlo por nuestra cuenta."
   ]
  },
  {
   "cell_type": "code",
   "execution_count": 27,
   "metadata": {
    "execution": {
     "iopub.execute_input": "2022-04-10T11:56:44.239939Z",
     "iopub.status.busy": "2022-04-10T11:56:44.239637Z",
     "iopub.status.idle": "2022-04-10T11:57:11.654685Z",
     "shell.execute_reply": "2022-04-10T11:57:11.653729Z",
     "shell.execute_reply.started": "2022-04-10T11:56:44.239906Z"
    },
    "tags": []
   },
   "outputs": [
    {
     "data": {
      "application/vnd.jupyter.widget-view+json": {
       "model_id": "9cdf591e603747f9b254976a96daa711",
       "version_major": 2,
       "version_minor": 0
      },
      "text/plain": [
       "VBox()"
      ]
     },
     "metadata": {},
     "output_type": "display_data"
    },
    {
     "data": {
      "application/vnd.jupyter.widget-view+json": {
       "model_id": "",
       "version_major": 2,
       "version_minor": 0
      },
      "text/plain": [
       "FloatProgress(value=0.0, bar_style='info', description='Progress:', layout=Layout(height='25px', width='50%'),…"
      ]
     },
     "metadata": {},
     "output_type": "display_data"
    },
    {
     "name": "stdout",
     "output_type": "stream",
     "text": [
      "+-----------+\n",
      "|marketplace|\n",
      "+-----------+\n",
      "|         DE|\n",
      "|         US|\n",
      "|         UK|\n",
      "|         FR|\n",
      "|         JP|\n",
      "+-----------+"
     ]
    }
   ],
   "source": [
    "df_amazon.select(\"marketplace\").distinct().show()"
   ]
  },
  {
   "cell_type": "markdown",
   "metadata": {},
   "source": [
    "Sí que aparecen los mercados francés (`FR`) y alemán (`DE`) pero **no el español**, asi que de ese mercado no podemos calcular nada en este Proyecto."
   ]
  },
  {
   "cell_type": "markdown",
   "metadata": {},
   "source": [
    "Empecemos con el **mercado francés**."
   ]
  },
  {
   "cell_type": "code",
   "execution_count": 25,
   "metadata": {
    "execution": {
     "iopub.execute_input": "2022-04-11T01:06:39.337104Z",
     "iopub.status.busy": "2022-04-11T01:06:39.336823Z",
     "iopub.status.idle": "2022-04-11T01:15:04.573058Z",
     "shell.execute_reply": "2022-04-11T01:15:04.572115Z",
     "shell.execute_reply.started": "2022-04-11T01:06:39.337072Z"
    },
    "tags": []
   },
   "outputs": [
    {
     "data": {
      "application/vnd.jupyter.widget-view+json": {
       "model_id": "eaf65f8f1e074e009a3be8a0280fa4f3",
       "version_major": 2,
       "version_minor": 0
      },
      "text/plain": [
       "VBox()"
      ]
     },
     "metadata": {},
     "output_type": "display_data"
    },
    {
     "data": {
      "application/vnd.jupyter.widget-view+json": {
       "model_id": "",
       "version_major": 2,
       "version_minor": 0
      },
      "text/plain": [
       "FloatProgress(value=0.0, bar_style='info', description='Progress:', layout=Layout(height='25px', width='50%'),…"
      ]
     },
     "metadata": {},
     "output_type": "display_data"
    },
    {
     "name": "stdout",
     "output_type": "stream",
     "text": [
      "+------------------------+-----------------+-----------------+-----------------+------------------+------------------+------------------+------------------+------------------+------------------+------------------+\n",
      "|product_category        |2006             |2007             |2008             |2009              |2010              |2011              |2012              |2013              |2014              |2015              |\n",
      "+------------------------+-----------------+-----------------+-----------------+------------------+------------------+------------------+------------------+------------------+------------------+------------------+\n",
      "|Wireless                |null             |null             |null             |null              |5.0               |4.458333333333333 |3.774193548387097 |3.8787061994609164|3.898107714701601 |3.75177304964539  |\n",
      "|Watches                 |null             |null             |null             |4.0               |4.5               |3.8125            |4.21978021978022  |4.111111111111111 |4.108196721311476 |3.912621359223301 |\n",
      "|Video_Games             |null             |null             |5.0              |3.6666666666666665|4.615384615384615 |3.5952380952380953|4.0               |4.267857142857143 |4.110714285714286 |4.0               |\n",
      "|Video_DVD               |4.418032786885246|4.516483516483516|4.268370607028754|4.361244019138756 |4.290645495340007 |4.344487109160724 |4.294947994056463 |4.355349400020168 |4.342864749733759 |4.273082744702321 |\n",
      "|Video                   |null             |5.0              |5.0              |3.8               |5.0               |5.0               |5.0               |4.142857142857143 |3.4444444444444446|4.333333333333333 |\n",
      "|Toys                    |null             |5.0              |null             |4.2               |4.5777777777777775|4.527777777777778 |4.44932079414838  |4.476795931341386 |4.4409047467346285|4.393588601959038 |\n",
      "|Sports                  |null             |null             |null             |null              |3.5               |4.777777777777778 |4.521739130434782 |3.8666666666666667|3.9215686274509802|3.8767123287671232|\n",
      "|Shoes                   |null             |null             |null             |null              |null              |5.0               |4.5               |4.24              |4.281818181818182 |4.269230769230769 |\n",
      "|Personal_Care_Appliances|null             |null             |null             |null              |null              |5.0               |4.0               |3.4615384615384617|3.6666666666666665|4.142857142857143 |\n",
      "|PC                      |5.0              |null             |null             |3.0               |4.333333333333333 |4.314606741573034 |4.20935412026726  |4.252609603340292 |4.203026481715006 |4.14709236031927  |\n",
      "|Office_Products         |null             |null             |null             |null              |5.0               |4.428571428571429 |4.217391304347826 |4.2388059701492535|4.2               |4.488888888888889 |\n",
      "|Musical_Instruments     |null             |null             |null             |null              |4.333333333333333 |4.7               |4.1               |4.195402298850575 |3.9889502762430937|3.789855072463768 |\n",
      "|Music                   |4.578947368421052|4.360215053763441|4.498305084745763|4.476885644768856 |4.454077253218884 |4.4534342258440045|4.453755293068865 |4.458443854995579 |4.4506988684986215|4.462970799830724 |\n",
      "|Mobile_Apps             |null             |null             |null             |null              |null              |null              |3.9942028985507245|3.9710193204530313|3.7502102607232968|3.6706563706563706|\n",
      "|Luggage                 |null             |null             |null             |null              |null              |5.0               |4.666666666666667 |4.410256410256411 |3.935483870967742 |4.6               |\n",
      "|Lawn_and_Garden         |null             |null             |null             |null              |1.0               |null              |4.2               |3.92              |3.090909090909091 |2.90625           |\n",
      "|Kitchen                 |null             |null             |null             |null              |2.6               |null              |3.0               |2.7857142857142856|2.9393939393939394|3.2               |\n",
      "|Home_Improvement        |null             |null             |null             |null              |null              |null              |4.428571428571429 |4.153846153846154 |4.0606060606060606|4.434782608695652 |\n",
      "|Home_Entertainment      |null             |null             |null             |5.0               |4.6               |4.5               |4.157894736842105 |4.354838709677419 |4.276190476190476 |4.052631578947368 |\n",
      "|Home                    |null             |null             |null             |null              |3.3333333333333335|4.333333333333333 |3.8636363636363638|4.279661016949152 |3.9419087136929463|4.02928870292887  |\n",
      "|Health_&_Personal_Care  |null             |null             |null             |null              |null              |null              |3.0               |4.0               |3.6666666666666665|3.25              |\n",
      "|Electronics             |null             |null             |null             |3.0               |4.642857142857143 |4.382352941176471 |4.252830188679245 |4.042253521126761 |3.964589235127479 |3.9140625         |\n",
      "|Digital_Music_Purchase  |null             |null             |null             |4.285714285714286 |4.386363636363637 |4.3125            |4.332344213649852 |4.471877979027646 |4.4896626768226335|4.41795665634675  |\n",
      "|Digital_Ebook_Purchase  |null             |null             |null             |null              |null              |3.1666666666666665|3.9237536656891496|4.097674418604651 |4.1326086956521735|4.1020408163265305|\n",
      "|Camera                  |null             |null             |5.0              |4.648648648648648 |4.396825396825397 |4.444444444444445 |4.389784946236559 |4.254562920268972 |4.232142857142857 |4.219858156028369 |\n",
      "|Books                   |4.238095238095238|4.341463414634147|4.15             |4.151898734177215 |4.22911051212938  |4.277153558052435 |4.329718004338395 |4.3576285014957845|4.40273678561846  |4.355593607305936 |\n",
      "|Baby                    |null             |null             |null             |5.0               |4.4               |4.5               |4.192982456140351 |4.11864406779661  |4.354285714285714 |4.213483146067416 |\n",
      "|Automotive              |null             |null             |null             |null              |null              |null              |3.6666666666666665|3.7               |3.3333333333333335|3.590909090909091 |\n",
      "+------------------------+-----------------+-----------------+-----------------+------------------+------------------+------------------+------------------+------------------+------------------+------------------+"
     ]
    }
   ],
   "source": [
    "(\n",
    "    df_amazon_casted\n",
    "    .select(\"product_category\", \"year\", \"star_rating\", \"marketplace\", \"verified_purchase\")\n",
    "    .where((f.col(\"marketplace\") == \"FR\"))\n",
    "    .where((f.col(\"verified_purchase\") == \"true\"))\n",
    "    .where((f.col(\"year\") > 2005))\n",
    "    .groupBy(\"product_category\").pivot(\"year\")\n",
    "    .agg(f.mean(\"star_rating\"))\n",
    "    .orderBy(\"product_category\", ascending = False)\n",
    "    .show(40, False)\n",
    "    \n",
    ")"
   ]
  },
  {
   "cell_type": "markdown",
   "metadata": {},
   "source": [
    "Como podemos observar, sabiendo que el tenemos un total de 43 cateogorías de productos, **en este mercado aparece un número inferior**. A destacar:\n",
    "\n",
    "- **Tan solo** hay registros en los primeros años de DVD (`Video_DVD`), productos relacionados con la música (`Music`) y libros (`books`). Hasta **2012** no hay registro de todos los distintos productos recogidos.\n",
    "\n",
    "- Se observa una tendencia de **disminución de la valoración media a medida que van pasando los años**.\n",
    "\n",
    "- No obstante, encontramos algunas **excepciones** como con `Personal_Care_Appliances`, `Office_Products`, `Luggage`, `Kitches` y `Automative`. \n",
    "\n",
    "- Los productos relacionados con la música (`Music`) son los que tienen la **valoración media más estable del resto de categorías**."
   ]
  },
  {
   "cell_type": "code",
   "execution_count": 31,
   "metadata": {
    "execution": {
     "iopub.execute_input": "2022-04-11T01:31:57.688376Z",
     "iopub.status.busy": "2022-04-11T01:31:57.688166Z",
     "iopub.status.idle": "2022-04-11T01:40:30.602558Z",
     "shell.execute_reply": "2022-04-11T01:40:30.601596Z",
     "shell.execute_reply.started": "2022-04-11T01:31:57.688347Z"
    },
    "tags": []
   },
   "outputs": [
    {
     "data": {
      "application/vnd.jupyter.widget-view+json": {
       "model_id": "6cc5368c79a14d7faffb6f1e0b90daff",
       "version_major": 2,
       "version_minor": 0
      },
      "text/plain": [
       "VBox()"
      ]
     },
     "metadata": {},
     "output_type": "display_data"
    },
    {
     "data": {
      "application/vnd.jupyter.widget-view+json": {
       "model_id": "",
       "version_major": 2,
       "version_minor": 0
      },
      "text/plain": [
       "FloatProgress(value=0.0, bar_style='info', description='Progress:', layout=Layout(height='25px', width='50%'),…"
      ]
     },
     "metadata": {},
     "output_type": "display_data"
    },
    {
     "name": "stdout",
     "output_type": "stream",
     "text": [
      "+------------------------+-----------------+------------------+-----------------+------------------+------------------+------------------+------------------+------------------+------------------+------------------+\n",
      "|product_category        |2006             |2007              |2008             |2009              |2010              |2011              |2012              |2013              |2014              |2015              |\n",
      "+------------------------+-----------------+------------------+-----------------+------------------+------------------+------------------+------------------+------------------+------------------+------------------+\n",
      "|Wireless                |5.0              |5.0               |4.5              |4.375             |3.63265306122449  |3.49              |3.6204188481675392|3.842487046632124 |3.8253182461103252|3.9690402476780187|\n",
      "|Watches                 |null             |null              |2.0              |4.125             |4.4               |4.243243243243243 |4.442857142857143 |4.447432762836185 |4.367647058823529 |4.050541516245487 |\n",
      "|Video_Games             |5.0              |5.0               |5.0              |4.25              |4.230769230769231 |4.117647058823529 |4.095505617977528 |4.2729468599033815|4.146103896103896 |3.924137931034483 |\n",
      "|Video_DVD               |4.329449152542373|4.303476723629935 |4.248293963254593|4.235957753240519 |4.30072202166065  |4.3175740868366645|4.362895065769894 |4.545185947656354 |4.529879146310106 |4.456693887651571 |\n",
      "|Video                   |3.5              |4.4               |3.0              |4.285714285714286 |4.8125            |3.7777777777777777|4.2727272727272725|4.386363636363637 |4.170212765957447 |4.363636363636363 |\n",
      "|Toys                    |4.9              |4.5               |4.444444444444445|4.470588235294118 |4.50625           |4.484375          |4.550965665236052 |4.65567943124899  |4.597960512041658 |4.531489111241907 |\n",
      "|Sports                  |null             |null              |null             |4.0               |4.538461538461538 |3.935483870967742 |4.3875            |4.1107491856677525|4.012738853503185 |4.174193548387096 |\n",
      "|Software                |null             |null              |null             |null              |null              |null              |4.5               |3.75              |3.0               |5.0               |\n",
      "|Shoes                   |null             |null              |null             |4.0               |4.666666666666667 |4.2682926829268295|4.281767955801105 |4.430079155672823 |4.357142857142857 |4.285310734463277 |\n",
      "|Personal_Care_Appliances|null             |null              |null             |null              |3.6666666666666665|4.4375            |4.490566037735849 |4.419354838709677 |4.108527131782946 |3.9397590361445785|\n",
      "|PC                      |5.0              |5.0               |2.0              |4.484848484848484 |4.390909090909091 |4.385012919896641 |4.279352226720648 |4.406586826347305 |4.375917278185457 |4.4233365477338475|\n",
      "|Office_Products         |null             |null              |null             |5.0               |4.0               |3.6666666666666665|4.555555555555555 |4.325581395348837 |4.433628318584071 |4.449275362318841 |\n",
      "|Musical_Instruments     |null             |null              |5.0              |3.0               |4.875             |5.0               |4.207920792079208 |4.456204379562044 |4.266447368421052 |4.163841807909605 |\n",
      "|Music                   |4.445121951219512|4.432639649507119 |4.461982675649663|4.516184971098266 |4.474937343358396 |4.471153846153846 |4.518452803406672 |4.608649833494921 |4.578771256171146 |4.541347075743049 |\n",
      "|Mobile_Apps             |null             |null              |null             |null              |null              |null              |3.9378031383737517|3.9844167661946197|3.810336300692384 |3.665582191780822 |\n",
      "|Luggage                 |null             |null              |null             |null              |4.7272727272727275|4.518518518518518 |4.7407407407407405|4.795918367346939 |4.87037037037037  |4.4375            |\n",
      "|Lawn_and_Garden         |null             |null              |null             |5.0               |4.0               |4.5               |3.736842105263158 |4.3700787401574805|3.6770833333333335|3.5535714285714284|\n",
      "|Kitchen                 |null             |null              |null             |null              |null              |4.333333333333333 |4.5               |4.45              |3.806451612903226 |4.448275862068965 |\n",
      "|Home_Improvement        |null             |null              |null             |4.666666666666667 |4.461538461538462 |4.6923076923076925|4.384615384615385 |4.458762886597938 |4.304568527918781 |4.064220183486238 |\n",
      "|Home_Entertainment      |null             |null              |null             |3.0               |4.0               |4.142857142857143 |4.555555555555555 |4.4512820512820515|4.315789473684211 |3.7708333333333335|\n",
      "|Home                    |null             |null              |null             |4.2               |5.0               |4.545454545454546 |4.39873417721519  |4.545662100456621 |4.239247311827957 |4.048582995951417 |\n",
      "|Health_&_Personal_Care  |null             |null              |null             |null              |null              |null              |3.7142857142857144|4.444444444444445 |3.875             |4.25              |\n",
      "|Grocery                 |null             |null              |null             |null              |null              |null              |null              |5.0               |null              |5.0               |\n",
      "|Furniture               |null             |null              |null             |null              |null              |null              |2.0               |2.772727272727273 |3.53125           |4.0               |\n",
      "|Electronics             |4.5              |4.9               |4.454545454545454|4.2727272727272725|4.580357142857143 |4.342105263157895 |4.238095238095238 |4.052681091251176 |4.211227402473835 |4.101449275362318 |\n",
      "|Digital_Video_Download  |null             |null              |null             |null              |null              |null              |null              |3.0               |4.037421719871697 |3.959463772741781 |\n",
      "|Digital_Music_Purchase  |null             |null              |null             |4.357142857142857 |4.588541666666667 |4.547550432276657 |4.593735605711654 |4.6551157375701955|4.657685009487666 |4.6607413010590015|\n",
      "|Digital_Ebook_Purchase  |null             |null              |null             |null              |5.0               |4.054054054054054 |4.248051948051948 |4.252672209026128 |4.308199541284404 |4.302813017098732 |\n",
      "|Camera                  |5.0              |null              |4.35             |4.483870967741935 |4.247422680412371 |4.238532110091743 |4.3774954627949185|4.392857142857143 |4.316764953664701 |4.281021897810219 |\n",
      "|Books                   |4.222222222222222|4.4125874125874125|4.201793721973094|4.368121442125237 |4.36938202247191  |4.353726362625139 |4.435672514619883 |4.511661573105999 |4.469635627530365 |4.4399624765478425|\n",
      "|Baby                    |null             |null              |null             |5.0               |3.4285714285714284|4.428571428571429 |4.36986301369863  |4.244343891402715 |4.319796954314721 |4.3090909090909095|\n",
      "|Automotive              |null             |null              |null             |null              |2.0               |4.0               |4.608695652173913 |4.290076335877862 |4.084615384615384 |4.3561643835616435|\n",
      "+------------------------+-----------------+------------------+-----------------+------------------+------------------+------------------+------------------+------------------+------------------+------------------+"
     ]
    }
   ],
   "source": [
    "(\n",
    "    df_amazon_casted\n",
    "    .select(\"product_category\", \"year\", \"star_rating\", \"marketplace\", \"verified_purchase\")\n",
    "    .where((f.col(\"marketplace\") == \"DE\"))\n",
    "    .where((f.col(\"verified_purchase\") == \"true\"))\n",
    "    .where((f.col(\"year\") > 2005))\n",
    "    .groupBy(\"product_category\").pivot(\"year\")\n",
    "    .agg(f.mean(\"star_rating\"))\n",
    "    .orderBy(\"product_category\", ascending = False)\n",
    "    .show(40, False)\n",
    "    \n",
    ")"
   ]
  },
  {
   "cell_type": "markdown",
   "metadata": {},
   "source": [
    "Al igual que con el mercado francés, el aleman **tampoco presenta todas las categorías de productos existentes** (hay algunas ligeras diferencias como que aquí aparece la categoría `Software`, `Digital_Video_Download` o `Furniture` cuando en el otro mercado no). Resaltamos lo siguiente, lo cual también coincide mayoritariamente con lo antes expuesto:\n",
    "\n",
    "- **Solamente** hay registros en los primeros años de DVD (`Video_DVD`), productos relacionados con la música (`Music`) y libros (`books`).\n",
    "\n",
    "- Hay una ligera tendencia a tener peor valoración media con respecto pasan los años, **aunque ocurre con menos productos que en el mercado francés**. Sin embargo, en 2015 la mayoría de valoraciones **son más altas en Alemania** que en Francia frente al mismo producto.\n",
    "\n",
    "- Una valoración perfecta en **`Grocery`** teniendo en cuenta que en 2014 ni hay registros hace sospechar que o apenas hay productos con estas categorías o son productos con escasas valoraciones y todas positivas."
   ]
  },
  {
   "cell_type": "markdown",
   "metadata": {},
   "source": [
    "### Pregunta 2: Define una columna llamada \"reviewValidity\" que contenga el valor \"valid\" en caso de que la review la consideres válida, en caso contrario, asociale el valor \"invalid\""
   ]
  },
  {
   "cell_type": "code",
   "execution_count": 8,
   "metadata": {
    "execution": {
     "iopub.execute_input": "2022-04-19T18:19:11.131922Z",
     "iopub.status.busy": "2022-04-19T18:19:11.131661Z",
     "iopub.status.idle": "2022-04-19T18:19:11.946204Z",
     "shell.execute_reply": "2022-04-19T18:19:11.945493Z",
     "shell.execute_reply.started": "2022-04-19T18:19:11.131893Z"
    },
    "tags": []
   },
   "outputs": [
    {
     "data": {
      "application/vnd.jupyter.widget-view+json": {
       "model_id": "51ee6146cc2c4316b044fef9ad4930ef",
       "version_major": 2,
       "version_minor": 0
      },
      "text/plain": [
       "VBox()"
      ]
     },
     "metadata": {},
     "output_type": "display_data"
    },
    {
     "data": {
      "application/vnd.jupyter.widget-view+json": {
       "model_id": "",
       "version_major": 2,
       "version_minor": 0
      },
      "text/plain": [
       "FloatProgress(value=0.0, bar_style='info', description='Progress:', layout=Layout(height='25px', width='50%'),…"
      ]
     },
     "metadata": {},
     "output_type": "display_data"
    }
   ],
   "source": [
    "# Creamos un nuevo dataset con la nueva columna\n",
    "\n",
    "df_amazon_complete = (\n",
    "    df_amazon_casted.withColumn(\"reviewValidity\", f.when(f.col(\"verified_purchase\") == \"true\", f.lit(\"valid\")).otherwise(f.lit(\"invalid\"))\n",
    "                        )\n",
    ")"
   ]
  },
  {
   "cell_type": "markdown",
   "metadata": {},
   "source": [
    "Mostremos el dataset con la nueva columna."
   ]
  },
  {
   "cell_type": "code",
   "execution_count": 51,
   "metadata": {
    "execution": {
     "iopub.execute_input": "2022-04-06T19:37:28.831853Z",
     "iopub.status.busy": "2022-04-06T19:37:28.831550Z",
     "iopub.status.idle": "2022-04-06T19:37:42.169867Z",
     "shell.execute_reply": "2022-04-06T19:37:42.169004Z",
     "shell.execute_reply.started": "2022-04-06T19:37:28.831822Z"
    },
    "tags": []
   },
   "outputs": [
    {
     "data": {
      "application/vnd.jupyter.widget-view+json": {
       "model_id": "7fd02cf86f5c4b69bc76ac30be020ca4",
       "version_major": 2,
       "version_minor": 0
      },
      "text/plain": [
       "VBox()"
      ]
     },
     "metadata": {},
     "output_type": "display_data"
    },
    {
     "data": {
      "application/vnd.jupyter.widget-view+json": {
       "model_id": "",
       "version_major": 2,
       "version_minor": 0
      },
      "text/plain": [
       "FloatProgress(value=0.0, bar_style='info', description='Progress:', layout=Layout(height='25px', width='50%'),…"
      ]
     },
     "metadata": {},
     "output_type": "display_data"
    },
    {
     "name": "stdout",
     "output_type": "stream",
     "text": [
      "+-----------+-----------+---------+----------+--------------+--------------------+-----------+-------------+-----------+-----+-----------------+--------------------+--------------------+-----------+----+----------------+--------------+\n",
      "|marketplace|customer_id|review_id|product_id|product_parent|       product_title|star_rating|helpful_votes|total_votes| vine|verified_purchase|     review_headline|         review_body|review_date|year|product_category|reviewValidity|\n",
      "+-----------+-----------+---------+----------+--------------+--------------------+-----------+-------------+-----------+-----+-----------------+--------------------+--------------------+-----------+----+----------------+--------------+\n",
      "|         US|   15444933|     null|1848192576|     835940987|Standing Qigong f...|          5|            9|         10|false|             true|Informative AND i...|After attending a...| 2015-05-02|2015|           Books|         valid|\n",
      "|         US|   20595117|     null|      null|     574044348|A Universe from N...|          4|            4|          7|false|            false|Between 'Nothing'...|Krauss traces the...| 2012-06-29|2012|           Books|       invlaid|\n",
      "|         US|   52925878|     null|      null|     846590203|Hyacinth Girls: A...|          4|            0|          0| true|            false|Mysteries upon my...|Rebecca, a dental...| 2015-05-02|2015|           Books|       invlaid|\n",
      "|         US|   40062567|     null| 425263908|     119148606|        Bared to You|          5|            1|          1|false|            false|\"RAW, STEAMY, HYP...|\\\\\"BARED TO YOU\\\\...| 2012-06-29|2012|           Books|       invlaid|\n",
      "|         US|   47221489|     null|1416556141|     987400385|     Healer: A Novel|          5|            0|          0|false|             true|  Well written story|Good characters a...| 2015-05-02|2015|           Books|         valid|\n",
      "|         US|   20709973|     null|1455523003|     181218559|The Missionary Po...|          4|            5|          7|false|             true|Eye opening, yet ...|This book was fas...| 2012-06-29|2012|           Books|         valid|\n",
      "|         US|   18052694|     null| 990388697|     840404589|I'm Tired of Bein...|          4|            1|          1|false|             true|                 JOY|A personal world ...| 2015-05-02|2015|           Books|         valid|\n",
      "|         US|   48279565|     null| 345803485|     600633062|Fifty Shades of G...|          1|            7|          7|false|            false|This book is Twil...|I bought this boo...| 2012-06-29|2012|           Books|       invlaid|\n",
      "|         US|   14297627|     null|1469245167|     466321651|The Thrill of Vic...|          4|            0|          0|false|             true|          Four Stars|Sandra Brown is a...| 2015-05-02|2015|           Books|         valid|\n",
      "|         US|   37340439|     null| 345803485|     600633062|Fifty Shades of G...|          5|            0|          9|false|            false|Fifty shades of grey|Loved this book! ...| 2012-06-29|2012|           Books|       invlaid|\n",
      "|         US|   35122979|     null| 743477111|      43217624|Romeo and Juliet ...|          4|            0|          0|false|             true|Good text, but ed...|The text and comm...| 2015-05-02|2015|           Books|         valid|\n",
      "|         US|   11213632|     null|1609611543|     657488375|Wheat Belly: Lose...|          5|            1|          1|false|             true|         Wheat belly|This is an excell...| 2012-06-29|2012|           Books|         valid|\n",
      "|         US|   15816241|     null| 563551933|     412573914|Dangerous Dessert...|          5|            0|          0|false|             true|          Five Stars|Book in great con...| 2015-05-02|2015|           Books|         valid|\n",
      "|         US|   36748944|     null|  61777269|      84797790|Consciousness Bey...|          5|            0|          0|false|            false|More evidence of ...|Consciousness Bey...| 2012-06-29|2012|           Books|       invlaid|\n",
      "|         US|   38261190|     null| 316769487|     862964341|The Catcher in th...|          1|            1|          6|false|             true|Some people rave ...|This book seems t...| 2015-05-02|2015|           Books|         valid|\n",
      "|         US|   44704475|     null| 307730697|      62706984|Fearless: The Und...|          4|            0|          0|false|             true|    American courage|For those who thi...| 2012-06-29|2012|           Books|         valid|\n",
      "|         US|   38351306|     null| 448439158|      27871958|Best-Ever Big Sister|          5|            0|          0|false|             true|My 1. 5-2yr old l...|My 1.5-2yr old lo...| 2015-05-02|2015|           Books|         valid|\n",
      "|         US|   49320969|     null| 375842209|      47504452|      The Book Thief|          5|            1|          1|false|            false|Many Years Later,...|This is a book th...| 2012-06-29|2012|           Books|       invlaid|\n",
      "|         US|   21239776|     null|1402773536|     615203301|  Large Print Sudoku|          5|            1|          1|false|             true|          Five Stars|like the big prin...| 2015-05-02|2015|           Books|         valid|\n",
      "|         US|   39150739|     null| 307592731|     576844294|Wild: From Lost t...|          5|            1|          1|false|            false| A True Page-Turner!|I absolutely love...| 2012-06-29|2012|           Books|       invlaid|\n",
      "+-----------+-----------+---------+----------+--------------+--------------------+-----------+-------------+-----------+-----+-----------------+--------------------+--------------------+-----------+----+----------------+--------------+\n",
      "only showing top 20 rows"
     ]
    }
   ],
   "source": [
    "df_amazon_complete.show()"
   ]
  },
  {
   "cell_type": "markdown",
   "metadata": {},
   "source": [
    "### Pregunta 3: ¿Qué marketplaces tienen un mayor volumen de reviews no válidas por año? Por otro lado, ¿cuáles contienen más reviews inválidas?"
   ]
  },
  {
   "cell_type": "code",
   "execution_count": 55,
   "metadata": {
    "execution": {
     "iopub.execute_input": "2022-04-06T19:40:40.174766Z",
     "iopub.status.busy": "2022-04-06T19:40:40.174476Z",
     "iopub.status.idle": "2022-04-06T19:40:53.596000Z",
     "shell.execute_reply": "2022-04-06T19:40:53.594665Z",
     "shell.execute_reply.started": "2022-04-06T19:40:40.174733Z"
    },
    "tags": []
   },
   "outputs": [
    {
     "data": {
      "application/vnd.jupyter.widget-view+json": {
       "model_id": "0c3cdeae6a0442899fe50a87f256fe98",
       "version_major": 2,
       "version_minor": 0
      },
      "text/plain": [
       "VBox()"
      ]
     },
     "metadata": {},
     "output_type": "display_data"
    },
    {
     "data": {
      "application/vnd.jupyter.widget-view+json": {
       "model_id": "",
       "version_major": 2,
       "version_minor": 0
      },
      "text/plain": [
       "FloatProgress(value=0.0, bar_style='info', description='Progress:', layout=Layout(height='25px', width='50%'),…"
      ]
     },
     "metadata": {},
     "output_type": "display_data"
    },
    {
     "name": "stdout",
     "output_type": "stream",
     "text": [
      "+-----------+--------------+\n",
      "|marketplace|invalid_review|\n",
      "+-----------+--------------+\n",
      "|         US|      35120356|\n",
      "|         UK|        406441|\n",
      "|         DE|        295220|\n",
      "|         JP|        123495|\n",
      "|         FR|        100895|\n",
      "+-----------+--------------+"
     ]
    }
   ],
   "source": [
    "# Primero con las reviews no válidas\n",
    "\n",
    "(\n",
    "    df_amazon_complete\n",
    "    .select(\"marketplace\", \"reviewValidity\")\n",
    "    .where((f.col(\"reviewValidity\") == \"invalid\")) \n",
    "    .groupBy(\"marketplace\")\n",
    "    .agg(\n",
    "        f.count(\"reviewValidity\").alias(\"invalid_review\")\n",
    "    )\n",
    "    .orderBy(\"invalid_review\", ascending = False)\n",
    "    .show()\n",
    "    \n",
    ")"
   ]
  },
  {
   "cell_type": "code",
   "execution_count": 8,
   "metadata": {
    "execution": {
     "iopub.execute_input": "2022-04-06T19:53:30.147234Z",
     "iopub.status.busy": "2022-04-06T19:53:30.146957Z",
     "iopub.status.idle": "2022-04-06T19:54:03.627075Z",
     "shell.execute_reply": "2022-04-06T19:54:03.626117Z",
     "shell.execute_reply.started": "2022-04-06T19:53:30.147202Z"
    },
    "tags": []
   },
   "outputs": [
    {
     "data": {
      "application/vnd.jupyter.widget-view+json": {
       "model_id": "bae5c258b44e4fe6b9c36a0a27cc1c93",
       "version_major": 2,
       "version_minor": 0
      },
      "text/plain": [
       "VBox()"
      ]
     },
     "metadata": {},
     "output_type": "display_data"
    },
    {
     "data": {
      "application/vnd.jupyter.widget-view+json": {
       "model_id": "",
       "version_major": 2,
       "version_minor": 0
      },
      "text/plain": [
       "FloatProgress(value=0.0, bar_style='info', description='Progress:', layout=Layout(height='25px', width='50%'),…"
      ]
     },
     "metadata": {},
     "output_type": "display_data"
    },
    {
     "name": "stdout",
     "output_type": "stream",
     "text": [
      "+-----------+------------+\n",
      "|marketplace|valid_review|\n",
      "+-----------+------------+\n",
      "|         US|   122773088|\n",
      "|         UK|     1301053|\n",
      "|         DE|      383901|\n",
      "|         FR|      153185|\n",
      "|         JP|      138936|\n",
      "+-----------+------------+"
     ]
    }
   ],
   "source": [
    "# Seguimos con las reviews válidas\n",
    "\n",
    "(\n",
    "    df_amazon_complete\n",
    "    .select(\"marketplace\", \"reviewValidity\")\n",
    "    .where((f.col(\"reviewValidity\") == \"valid\")) \n",
    "    .groupBy(\"marketplace\")\n",
    "    .agg(\n",
    "        f.count(\"reviewValidity\").alias(\"valid_review\")\n",
    "    )\n",
    "    .orderBy(\"valid_review\", ascending = False)\n",
    "    .show()\n",
    "    \n",
    ")"
   ]
  },
  {
   "cell_type": "markdown",
   "metadata": {},
   "source": [
    "Tanto para las reviews válidas como las inválidas destaca **Estados Unidos (`US`)**. Tanto para reviews válidas como inválidas le siguen Reino Unido (`UK`) y Alemania (`DE`), cambiando las posiciones entre el mercado alemán (`DE`) y el japonés (`JP`)."
   ]
  },
  {
   "cell_type": "markdown",
   "metadata": {},
   "source": [
    "### Pregunta 4: Normalmente, cuando repasamos rápidamente una review en Amazon, miramos al título directamente. En este sentido, para cada una de las categorías con valoraciones de 4 o 5 estrellas, cuáles son las 10 palabras más empleadas en el título?"
   ]
  },
  {
   "cell_type": "code",
   "execution_count": 40,
   "metadata": {
    "execution": {
     "iopub.execute_input": "2022-04-10T13:04:21.532752Z",
     "iopub.status.busy": "2022-04-10T13:04:21.532489Z",
     "iopub.status.idle": "2022-04-10T13:09:57.976540Z",
     "shell.execute_reply": "2022-04-10T13:09:57.975589Z",
     "shell.execute_reply.started": "2022-04-10T13:04:21.532721Z"
    },
    "tags": []
   },
   "outputs": [
    {
     "data": {
      "application/vnd.jupyter.widget-view+json": {
       "model_id": "9a2b83211db444c28628f7bf5e7d89a8",
       "version_major": 2,
       "version_minor": 0
      },
      "text/plain": [
       "VBox()"
      ]
     },
     "metadata": {},
     "output_type": "display_data"
    },
    {
     "data": {
      "application/vnd.jupyter.widget-view+json": {
       "model_id": "",
       "version_major": 2,
       "version_minor": 0
      },
      "text/plain": [
       "FloatProgress(value=0.0, bar_style='info', description='Progress:', layout=Layout(height='25px', width='50%'),…"
      ]
     },
     "metadata": {},
     "output_type": "display_data"
    },
    {
     "name": "stdout",
     "output_type": "stream",
     "text": [
      "+--------+--------------+\n",
      "|exploded|frequent_words|\n",
      "+--------+--------------+\n",
      "|   Stars|      18398986|\n",
      "|    Five|      18392870|\n",
      "|   Great|       8770470|\n",
      "|     the|       7823036|\n",
      "|     and|       7193485|\n",
      "|     for|       6263120|\n",
      "|       a|       5444894|\n",
      "|       I|       5144953|\n",
      "|      to|       4597017|\n",
      "|      of|       4290875|\n",
      "+--------+--------------+\n",
      "only showing top 10 rows"
     ]
    }
   ],
   "source": [
    "(\n",
    "   df_amazon_complete\n",
    "     .select(\"review_headline\", \"star_rating\")\n",
    "     .where((f.col(\"star_rating\") > 4)) \n",
    "     .withColumn(\"splitted\", f.split(f.col(\"review_headline\"), \" \"))\n",
    "     .withColumn(\"exploded\", f.explode(f.col(\"splitted\")))\n",
    "     .groupBy(\"exploded\")\n",
    "     .agg(\n",
    "         f.count(\"exploded\").alias(\"frequent_words\")\n",
    "     )\n",
    "    .orderBy(\"frequent_words\", ascending = False)\n",
    "    .show(10)\n",
    ")"
   ]
  },
  {
   "cell_type": "markdown",
   "metadata": {},
   "source": [
    "La mayoría de las palabras son pronombres (`I`), conjunciones (`and`) o determinaciones (`the`); por lo que **vamos a extender la lista a las 50 palabras más empleadas**."
   ]
  },
  {
   "cell_type": "code",
   "execution_count": 41,
   "metadata": {
    "execution": {
     "iopub.execute_input": "2022-04-10T13:10:42.235092Z",
     "iopub.status.busy": "2022-04-10T13:10:42.234825Z",
     "iopub.status.idle": "2022-04-10T13:15:57.421321Z",
     "shell.execute_reply": "2022-04-10T13:15:57.420109Z",
     "shell.execute_reply.started": "2022-04-10T13:10:42.235061Z"
    }
   },
   "outputs": [
    {
     "data": {
      "application/vnd.jupyter.widget-view+json": {
       "model_id": "df399857d50f499499706f725af3b66f",
       "version_major": 2,
       "version_minor": 0
      },
      "text/plain": [
       "VBox()"
      ]
     },
     "metadata": {},
     "output_type": "display_data"
    },
    {
     "data": {
      "application/vnd.jupyter.widget-view+json": {
       "model_id": "",
       "version_major": 2,
       "version_minor": 0
      },
      "text/plain": [
       "FloatProgress(value=0.0, bar_style='info', description='Progress:', layout=Layout(height='25px', width='50%'),…"
      ]
     },
     "metadata": {},
     "output_type": "display_data"
    },
    {
     "name": "stdout",
     "output_type": "stream",
     "text": [
      "+---------+--------------+\n",
      "| exploded|frequent_words|\n",
      "+---------+--------------+\n",
      "|    Stars|      18398986|\n",
      "|     Five|      18392870|\n",
      "|    Great|       8770470|\n",
      "|      the|       7823036|\n",
      "|      and|       7193485|\n",
      "|      for|       6263120|\n",
      "|        a|       5444894|\n",
      "|        I|       5144953|\n",
      "|       to|       4597017|\n",
      "|       of|       4290875|\n",
      "|    great|       3906629|\n",
      "|       it|       3546778|\n",
      "|     this|       3294303|\n",
      "|       is|       3269656|\n",
      "|        A|       3249048|\n",
      "|      ...|       3019693|\n",
      "|     Love|       2347355|\n",
      "|     love|       2335519|\n",
      "|      The|       2311157|\n",
      "|       my|       2203880|\n",
      "|     book|       2099135|\n",
      "|     good|       2081524|\n",
      "|       in|       2073677|\n",
      "|     Good|       1977885|\n",
      "|     with|       1722218|\n",
      "|     Very|       1621271|\n",
      "|Excellent|       1570094|\n",
      "|     This|       1511593|\n",
      "|       on|       1389790|\n",
      "|     Best|       1373488|\n",
      "|  product|       1278473|\n",
      "|      you|       1248807|\n",
      "|     very|       1225065|\n",
      "|     best|       1203862|\n",
      "|       as|       1152397|\n",
      "|     read|       1147626|\n",
      "|  Perfect|       1101706|\n",
      "|         |       1096528|\n",
      "|     have|       1074863|\n",
      "|      was|       1032668|\n",
      "|  Awesome|       1002696|\n",
      "|     like|        994496|\n",
      "|    Works|        970653|\n",
      "|      but|        968751|\n",
      "|        -|        965459|\n",
      "|      it!|        950031|\n",
      "|       My|        945986|\n",
      "|     that|        881058|\n",
      "|       It|        876009|\n",
      "|      are|        861137|\n",
      "+---------+--------------+\n",
      "only showing top 50 rows"
     ]
    }
   ],
   "source": [
    "(\n",
    "   df_amazon_complete\n",
    "     .select(\"review_headline\", \"star_rating\")\n",
    "     .where((f.col(\"star_rating\") > 4)) \n",
    "     .withColumn(\"splitted\", f.split(f.col(\"review_headline\"), \" \"))\n",
    "     .withColumn(\"exploded\", f.explode(f.col(\"splitted\")))\n",
    "     .groupBy(\"exploded\")\n",
    "     .agg(\n",
    "         f.count(\"exploded\").alias(\"frequent_words\")\n",
    "     )\n",
    "    .orderBy(\"frequent_words\", ascending = False)\n",
    "    .show(50) # Lo extendemos ahora a 50\n",
    ")"
   ]
  },
  {
   "cell_type": "markdown",
   "metadata": {},
   "source": [
    "Aunque aparecen más pronombres y conjunciones ahora encontramos **más adjetivos que antes**: `Great` aparece 2 veces, así como `Love`. Aparecen nuevos adjetivos como `Best`, `Excellent` o `Awesome`. Destaca dentro de productos, además de la propia palabra `product` aparece una de sus categorías como son los libros (`books`)."
   ]
  },
  {
   "cell_type": "markdown",
   "metadata": {},
   "source": [
    "### Pregunta 5: Otro aspecto que sí que comparten las reviews son el título del producto. En este sentido, cual es el top 10 de productos mejor valorados del dataset, siempre y cuando consideremos las reviews válidas. De esos 10 productos, ¿existen diferencias en cuanto al rating que tienen en cada marketplace? ¿Qué información podría extraer la marca si se añade la componente temporal a ese análisis?"
   ]
  },
  {
   "cell_type": "code",
   "execution_count": 24,
   "metadata": {
    "execution": {
     "iopub.execute_input": "2022-04-19T18:58:13.767259Z",
     "iopub.status.busy": "2022-04-19T18:58:13.766971Z",
     "iopub.status.idle": "2022-04-19T19:03:16.072513Z",
     "shell.execute_reply": "2022-04-19T19:03:16.071560Z",
     "shell.execute_reply.started": "2022-04-19T18:58:13.767228Z"
    },
    "tags": []
   },
   "outputs": [
    {
     "data": {
      "application/vnd.jupyter.widget-view+json": {
       "model_id": "b00c22a78d9b46819065dccb34819392",
       "version_major": 2,
       "version_minor": 0
      },
      "text/plain": [
       "VBox()"
      ]
     },
     "metadata": {},
     "output_type": "display_data"
    },
    {
     "data": {
      "application/vnd.jupyter.widget-view+json": {
       "model_id": "",
       "version_major": 2,
       "version_minor": 0
      },
      "text/plain": [
       "FloatProgress(value=0.0, bar_style='info', description='Progress:', layout=Layout(height='25px', width='50%'),…"
      ]
     },
     "metadata": {},
     "output_type": "display_data"
    },
    {
     "name": "stdout",
     "output_type": "stream",
     "text": [
      "+-----------+----------------------------------------------------------------------------------------+---------------+-----------------+\n",
      "|marketplace|product_title                                                                           |sum_total_votes|rating_mean_round|\n",
      "+-----------+----------------------------------------------------------------------------------------+---------------+-----------------+\n",
      "|US         |Minecraft                                                                               |877403         |4.56             |\n",
      "|US         |Subway Surfers                                                                          |338626         |4.66             |\n",
      "|US         |Minion Rush: Despicable Me Official Game                                                |200860         |4.46             |\n",
      "|US         |Pixel Gun 3D (Pocket Edition) - multiplayer shooter with skin creator                   |182492         |4.52             |\n",
      "|US         |Kindle Fire (Previous Generation - 1st)                                                 |172613         |4.06             |\n",
      "|US         |Candy Crush Saga                                                                        |168451         |4.4              |\n",
      "|US         |Kindle: Amazon's Original Wireless Reading Device (1st generation)                      |157515         |4.48             |\n",
      "|US         |Temple Run 2                                                                            |152073         |4.36             |\n",
      "|UK         |Minecraft                                                                               |125341         |4.59             |\n",
      "|US         |Fifty Shades of Grey: Book One of the Fifty Shades Trilogy (Fifty Shades of Grey Series)|122640         |3.49             |\n",
      "+-----------+----------------------------------------------------------------------------------------+---------------+-----------------+"
     ]
    }
   ],
   "source": [
    "(\n",
    "    df_amazon_complete\n",
    "        .where((f.col(\"reviewValidity\") == \"valid\"))\n",
    "        .groupBy(\"marketplace\", \"product_title\")\n",
    "        .agg(\n",
    "            f.mean(f.col(\"star_rating\")).alias(\"rating_mean\"),\n",
    "            f.sum(f.col(\"total_votes\")).alias(\"sum_total_votes\")\n",
    "        )\n",
    "        .withColumn(\"rating_mean_round\", round(\"rating_mean\", 2))\n",
    "        .drop(\"rating_mean\")\n",
    "        .orderBy(\"sum_total_votes\",\"rating_mean_round\", ascending = False)\n",
    "        .limit(10)\n",
    "        .show(10, False)\n",
    "    )"
   ]
  },
  {
   "cell_type": "markdown",
   "metadata": {},
   "source": [
    "Lo primero que tenemos que decir que debido al enorme impacto que tiene **Estados Unidos (`US`)** respecto al resto hace imposible que con solo 10 productos podamos encontrar marketplaces distintos a este. Sólamente se exeptúa el videojuego de **`Minecraft`** en Reino Unido (`UK`) el cual es el líder supremo en votos pero esta vez en el mercado americano. \n",
    "\n",
    "La influencia creo que puede dar añadir una componente temporal creo que es clara: **si el producto es una moda**. Realmente si nos fijamos la mayoría de productos de este top 10 son videojuegos (ya sean de plataformas o de dispositivos móviles y tablets). En esta época de la digitalización (2015) encaja perfectamente que los videojuegos destaquen sobre otra clase de productos. Por ello, vamos a condicionar este top 10 solo hasta el **año 2005** donde los resultados no estaban tanto en tendencia a ver qué resultados encontramos."
   ]
  },
  {
   "cell_type": "code",
   "execution_count": 28,
   "metadata": {
    "execution": {
     "iopub.execute_input": "2022-04-19T19:14:16.191590Z",
     "iopub.status.busy": "2022-04-19T19:14:16.191291Z",
     "iopub.status.idle": "2022-04-19T19:17:36.186191Z",
     "shell.execute_reply": "2022-04-19T19:17:36.185185Z",
     "shell.execute_reply.started": "2022-04-19T19:14:16.191558Z"
    },
    "tags": []
   },
   "outputs": [
    {
     "data": {
      "application/vnd.jupyter.widget-view+json": {
       "model_id": "c195812ff9a84e9a8e4276d32273d974",
       "version_major": 2,
       "version_minor": 0
      },
      "text/plain": [
       "VBox()"
      ]
     },
     "metadata": {},
     "output_type": "display_data"
    },
    {
     "data": {
      "application/vnd.jupyter.widget-view+json": {
       "model_id": "",
       "version_major": 2,
       "version_minor": 0
      },
      "text/plain": [
       "FloatProgress(value=0.0, bar_style='info', description='Progress:', layout=Layout(height='25px', width='50%'),…"
      ]
     },
     "metadata": {},
     "output_type": "display_data"
    },
    {
     "name": "stdout",
     "output_type": "stream",
     "text": [
      "+-----------+---------------------------------------------------------------------------------+---------------+-----------------+\n",
      "|marketplace|product_title                                                                    |sum_total_votes|rating_mean_round|\n",
      "+-----------+---------------------------------------------------------------------------------+---------------+-----------------+\n",
      "|US         |A Game of Thrones (A Song of Ice and Fire, Book 1)                               |14670          |4.16             |\n",
      "|US         |Firefly: The Complete Series                                                     |14236          |4.92             |\n",
      "|US         |The Da Vinci Code                                                                |10487          |3.82             |\n",
      "|US         |Unfit For Command: Swift Boat Veterans Speak Out Against John Kerry              |6105           |4.78             |\n",
      "|US         |The Power of Now: A Guide to Spiritual Enlightenment                             |5430           |4.28             |\n",
      "|US         |The Four Agreements: A Practical Guide to Personal Freedom (A Toltec Wisdom Book)|5368           |4.49             |\n",
      "|US         |Fahrenheit 9/11                                                                  |5356           |4.81             |\n",
      "|US         |Eat to Live: The Revolutionary Formula for Fast and Sustained Weight Loss        |4749           |4.5              |\n",
      "|US         |Pride and Prejudice (Special Edition)                                            |4556           |4.22             |\n",
      "|US         |Omron HJ-112 Digital Pocket Pedometer                                            |4450           |5.0              |\n",
      "+-----------+---------------------------------------------------------------------------------+---------------+-----------------+"
     ]
    }
   ],
   "source": [
    "(\n",
    "    df_amazon_complete\n",
    "        .where((f.col(\"reviewValidity\") == \"valid\"))\n",
    "        .where((f.col(\"year\") < 2005)) # Añadimos la nueva condición\n",
    "        .groupBy(\"marketplace\", \"product_title\")\n",
    "        .agg(\n",
    "            f.mean(f.col(\"star_rating\")).alias(\"rating_mean\"),\n",
    "            f.sum(f.col(\"total_votes\")).alias(\"sum_total_votes\")\n",
    "        )\n",
    "        .withColumn(\"rating_mean_round\", round(\"rating_mean\", 2))\n",
    "        .drop(\"rating_mean\")\n",
    "        .orderBy(\"sum_total_votes\",\"rating_mean_round\", ascending = False)\n",
    "        .limit(10)\n",
    "        .show(10, False)\n",
    "    )"
   ]
  },
  {
   "cell_type": "markdown",
   "metadata": {},
   "source": [
    "Como era de esperar, Estados Unidos seguiría destacando pero no así los productos. Más allá de los libros, el producto estrella aquí son las **series y películas**. Así que a la marca le interesa mucho el factor temporal para saber qué sectores están en alza y poder sacar beneficio."
   ]
  },
  {
   "cell_type": "code",
   "execution_count": null,
   "metadata": {},
   "outputs": [
    {
     "data": {
      "application/vnd.jupyter.widget-view+json": {
       "model_id": "",
       "version_major": 2,
       "version_minor": 0
      },
      "text/plain": [
       "VBox()"
      ]
     },
     "metadata": {},
     "output_type": "display_data"
    },
    {
     "data": {
      "application/vnd.jupyter.widget-view+json": {
       "model_id": "",
       "version_major": 2,
       "version_minor": 0
      },
      "text/plain": [
       "FloatProgress(value=0.0, bar_style='info', description='Progress:', layout=Layout(height='25px', width='50%'),…"
      ]
     },
     "metadata": {},
     "output_type": "display_data"
    },
    {
     "name": "stdout",
     "output_type": "stream",
     "text": [
      "+-----------+---------------+-----------------+\n",
      "|marketplace|sum_total_votes|rating_mean_round|\n",
      "+-----------+---------------+-----------------+\n",
      "|US         |213450806      |4.23             |\n",
      "|UK         |2600482        |4.45             |\n",
      "|DE         |1528515        |4.37             |\n",
      "|JP         |1300423        |4.28             |\n",
      "|FR         |390688         |4.31             |\n",
      "+-----------+---------------+-----------------+"
     ]
    }
   ],
   "source": [
    "# En términos globales vemos que media de star_rating tiene cada país\n",
    "\n",
    "(\n",
    "    df_amazon_complete\n",
    "        .where((f.col(\"reviewValidity\") == \"valid\"))\n",
    "        .groupBy(\"marketplace\") # Eliminamos product_title al no poder hacerlo de un top 10\n",
    "        .agg(\n",
    "            f.mean(f.col(\"star_rating\")).alias(\"rating_mean\"),\n",
    "            f.sum(f.col(\"total_votes\")).alias(\"sum_total_votes\")\n",
    "        )\n",
    "        .withColumn(\"rating_mean_round\", round(\"rating_mean\", 2))\n",
    "        .drop(\"rating_mean\")\n",
    "        .orderBy(\"sum_total_votes\",\"rating_mean_round\", ascending = False)\n",
    "        .show()\n",
    "    )"
   ]
  },
  {
   "cell_type": "markdown",
   "metadata": {},
   "source": [
    "Aunque incluye todos los productos y no el top 10 (por las dificultades ya planteadas), vemos que en términos generales la diferencia de media de `star_rating` entre sus marketplace **es bastante corta**. Partiendo de que no hay apenas distinciones entre ellos con esa cantidad total tan distinta de votos totales, es probable que esa escasa diferencia de media también se den en un top 10 aunque no se puede asegurar."
   ]
  },
  {
   "cell_type": "markdown",
   "metadata": {
    "tags": []
   },
   "source": [
    "## Movimiento de datos"
   ]
  },
  {
   "cell_type": "markdown",
   "metadata": {},
   "source": [
    "### Almacena el contenido del dataframe de electronics en S3, particionado por año"
   ]
  },
  {
   "cell_type": "code",
   "execution_count": 11,
   "metadata": {
    "execution": {
     "iopub.execute_input": "2022-04-19T18:26:10.218150Z",
     "iopub.status.busy": "2022-04-19T18:26:10.217887Z",
     "iopub.status.idle": "2022-04-19T18:27:03.743754Z",
     "shell.execute_reply": "2022-04-19T18:27:03.742982Z",
     "shell.execute_reply.started": "2022-04-19T18:26:10.218120Z"
    },
    "tags": []
   },
   "outputs": [
    {
     "data": {
      "application/vnd.jupyter.widget-view+json": {
       "model_id": "aa587d499f614048a883047afdef2674",
       "version_major": 2,
       "version_minor": 0
      },
      "text/plain": [
       "VBox()"
      ]
     },
     "metadata": {},
     "output_type": "display_data"
    },
    {
     "data": {
      "application/vnd.jupyter.widget-view+json": {
       "model_id": "",
       "version_major": 2,
       "version_minor": 0
      },
      "text/plain": [
       "FloatProgress(value=0.0, bar_style='info', description='Progress:', layout=Layout(height='25px', width='50%'),…"
      ]
     },
     "metadata": {},
     "output_type": "display_data"
    }
   ],
   "source": [
    "(\n",
    "    df_electronics_def\n",
    "        .write\n",
    "        .mode(\"overwrite\")\n",
    "        .partitionBy(\"year\")\n",
    "        .format(\"parquet\")\n",
    "        .option(\"path\", f\"s3://alex-spark/Proyecto consolidacion/dataset_partitioned\")\n",
    "        .saveAsTable(\"dataset_partitioned\")\n",
    ")"
   ]
  },
  {
   "cell_type": "markdown",
   "metadata": {},
   "source": [
    "### Almacena el contenido de un dataframe, agrupado por mercado, año y categoría, de la media de star_rating y el total de reviews pariticionado por año y mes"
   ]
  },
  {
   "cell_type": "markdown",
   "metadata": {},
   "source": [
    "En este caso, a diferencia del anterior partición, lo haremos en **dos partes**. Primero creamos un dataframe con las diferentes exigencias planteadas."
   ]
  },
  {
   "cell_type": "code",
   "execution_count": 13,
   "metadata": {
    "execution": {
     "iopub.execute_input": "2022-04-19T18:27:04.036025Z",
     "iopub.status.busy": "2022-04-19T18:27:04.035781Z",
     "iopub.status.idle": "2022-04-19T18:27:04.312178Z",
     "shell.execute_reply": "2022-04-19T18:27:04.311363Z",
     "shell.execute_reply.started": "2022-04-19T18:27:04.035996Z"
    },
    "tags": []
   },
   "outputs": [
    {
     "data": {
      "application/vnd.jupyter.widget-view+json": {
       "model_id": "d7853811909f498e9582ce75837b619d",
       "version_major": 2,
       "version_minor": 0
      },
      "text/plain": [
       "VBox()"
      ]
     },
     "metadata": {},
     "output_type": "display_data"
    },
    {
     "data": {
      "application/vnd.jupyter.widget-view+json": {
       "model_id": "",
       "version_major": 2,
       "version_minor": 0
      },
      "text/plain": [
       "FloatProgress(value=0.0, bar_style='info', description='Progress:', layout=Layout(height='25px', width='50%'),…"
      ]
     },
     "metadata": {},
     "output_type": "display_data"
    }
   ],
   "source": [
    "df_partitioned = (\n",
    "    df_electronics_def\n",
    "        .withColumn(\"year\", f.year(f.col(\"review_date\")))\n",
    "        .withColumn(\"month\", f.month(f.col(\"review_date\")))\n",
    "        .groupBy(\"marketplace\", \"year\", \"month\", \"product_category\")\n",
    "        .agg(\n",
    "            f.avg(f.col(\"star_rating\")).alias(\"avg_star_rating\"),\n",
    "            f.count(f.col(\"review_id\")).alias(\"review_count\")\n",
    "        )\n",
    ")"
   ]
  },
  {
   "cell_type": "markdown",
   "metadata": {},
   "source": [
    "Una vez hecho, lo almacenamos."
   ]
  },
  {
   "cell_type": "code",
   "execution_count": 16,
   "metadata": {
    "execution": {
     "iopub.execute_input": "2022-04-19T18:28:40.968530Z",
     "iopub.status.busy": "2022-04-19T18:28:40.968241Z",
     "iopub.status.idle": "2022-04-19T18:29:02.347407Z",
     "shell.execute_reply": "2022-04-19T18:29:02.346701Z",
     "shell.execute_reply.started": "2022-04-19T18:28:40.968499Z"
    },
    "tags": []
   },
   "outputs": [
    {
     "data": {
      "application/vnd.jupyter.widget-view+json": {
       "model_id": "eacde3209cff48648ea74f9b0b488eaa",
       "version_major": 2,
       "version_minor": 0
      },
      "text/plain": [
       "VBox()"
      ]
     },
     "metadata": {},
     "output_type": "display_data"
    },
    {
     "data": {
      "application/vnd.jupyter.widget-view+json": {
       "model_id": "",
       "version_major": 2,
       "version_minor": 0
      },
      "text/plain": [
       "FloatProgress(value=0.0, bar_style='info', description='Progress:', layout=Layout(height='25px', width='50%'),…"
      ]
     },
     "metadata": {},
     "output_type": "display_data"
    }
   ],
   "source": [
    "(\n",
    "    df_partitioned \n",
    "      .write\n",
    "      .partitionBy(\"year\")\n",
    "      .mode(\"overwrite\")\n",
    "      .parquet(\"s3://alex-spark/Proyecto consolidacion/dataset_partitioned_complete\")\n",
    ")"
   ]
  },
  {
   "cell_type": "markdown",
   "metadata": {},
   "source": [
    "## Data Scientist expertise"
   ]
  },
  {
   "cell_type": "markdown",
   "metadata": {},
   "source": [
    "### Pregunta 1: ¿Crees ques sería interesante cruzar este dataset con otros para enriquecerlo? ¿Con cuáles? ¿Por qué?"
   ]
  },
  {
   "cell_type": "markdown",
   "metadata": {
    "execution": {
     "iopub.execute_input": "2022-04-11T00:28:39.549701Z",
     "iopub.status.busy": "2022-04-11T00:28:39.549205Z",
     "iopub.status.idle": "2022-04-11T00:28:39.636507Z",
     "shell.execute_reply": "2022-04-11T00:28:39.635616Z",
     "shell.execute_reply.started": "2022-04-11T00:28:39.549627Z"
    }
   },
   "source": [
    "Generalmente un mismo producto se suele vender en varios lugares, no solo en Amazon. Es por ello que respecto a las reviews hay algunas plataformas como **Fnac o MediaMark que tienen un método de valoración idéntico** al analizado de 5 estrellas. Eso nos podría hacer multitud de **comparaciones** entre distintas tiendas respecto a un mismo producto. Cierto es que no se podría hacer con España pero Fnac tiene tiendas en Francia y MediaMark en el resto de países europeos incluido la misma Francia por lo que sería de utilidad."
   ]
  },
  {
   "cell_type": "markdown",
   "metadata": {},
   "source": [
    "### Pregunta 2: Plantea 3 casos de uso diferentes de productos basados en datos a partir del dataset inicial de reviews de Amazon, y cómo tu producto añadiría valor al sector concreto en el que lo enmarcas"
   ]
  },
  {
   "cell_type": "markdown",
   "metadata": {},
   "source": [
    "Se me ocurren 3 posibles casos:\n",
    "\n",
    "- **Un dataset de libros**: como hemos visto, es los libros (`books`) son el producto estrella de este dataset. No solo es la categoría con más productos, sino que en los mercados analizados es un producto del que siempre se han hecho reviews desde edades tempranas de Amazon. Seguro que se podríamos agruparlos por sus diferentes géneros con el fin de saber cuáles son los más demandados tanto en términos generales como por población dentro de cada marketplace. También sería interesante si afectan otros factores socio-demográficos como la edad o el sexo a la hora de la elección.\n",
    "\n",
    "- **Un dataset de productos con reviews negativas estadounidenses**: Estados Unidos (`US`) es unos de los principales mercados del mundo, afirmación que ha quedado reflejada en en el presente dataset de Amazon. Cuanto más contentos estén los clientes de dicho país, más beneficios se van a conseguir que si se hiciese en muchos otros países. La intención de este dataset sería revisar el o los motivos de descontento del cliente para intentar enfocar de otra manera dicho producto o centrarse más en otros productos relacionados pero con mejores reviews.\n",
    "\n",
    "- **Un dataset con las categorías con mejor media de `star_rating` de cada categoría**: por norma general lo más valorado es lo más vendido, así que las tiendas especializadas en un sector o categoría en concreto van a estar interesados en esos productos de su ámbito que mejor valoración media tenga. Esto sirve tanto para empresas emergentes que parten de lo más apoyado para intentar empezar con menos costes fijos iniciales, empresas ya establecidas que quieran aumentar sus beneficios o incluso empresas que estuviesen pensando en cambiarse de sector y vean una nueva oportunidad de mercado."
   ]
  },
  {
   "cell_type": "markdown",
   "metadata": {},
   "source": [
    "### Pregunta 3: ¿Qué otra columna o columnas crees que serían útiles en los datos, de tipo timestamp por ejemplo, para realizar análisis más complejos o profundos?"
   ]
  },
  {
   "cell_type": "markdown",
   "metadata": {},
   "source": [
    "Añadiría las siguientes columnas:\n",
    "    \n",
    "- **`purchase_date`**: sería una columna del tipo de timestamp en el cual se registra la hora y minuto en el que se ha comprado el producto. Sería interesante añadirla porque en el presente dataset están las fechas de las reviews pero no sabemos cuándo lo compro. Por un lado ayudaría a saber en qué horarios los clientes consumen más a diario así como ver el periodo que hay entre que compran el producto y realizan una review.\n",
    "\n",
    "- **`frequent_words`**: al igual que hemos hecho antes, sería una columna tipo string filtrado con las palabras más empleadas en las reviews. Ahora bien, sería eliminando todas las conjunciones, pronombres, determinantes y verbos que no aportan nada de información, dejando las palabras relacionadas con adjetivos, adverbios o nombres de productos.\n",
    "\n",
    "- **`state_place`**: sería una columna tipo string relacionada con `marketplace` siendo más especifica en la compra. En España indicaria las Comunidades Autónomas, en Estados Unidos los diferentes Estados o en Alemania  sus Estados Federados, entre otros países.\n",
    "\n",
    "- **`devolution_purchase`**: consistiría en una columna tipo booleana donde se indicaría si el cliente devolvió o no el producto. \n",
    "\n",
    "- Como ya se ha comentado previamente, una columna en la cual estén agrupadas algunas de las categorías de productos con características similares."
   ]
  },
  {
   "cell_type": "markdown",
   "metadata": {},
   "source": [
    "**Espero que les haya sido de ayuda este proyecto y deseo que sigan contando con mis servicios en futuros informes de análisis de datos**."
   ]
  }
 ],
 "metadata": {
  "kernelspec": {
   "display_name": "PySpark",
   "language": "",
   "name": "pysparkkernel"
  },
  "language_info": {
   "codemirror_mode": {
    "name": "python",
    "version": 3
   },
   "mimetype": "text/x-python",
   "name": "pyspark",
   "pygments_lexer": "python3"
  }
 },
 "nbformat": 4,
 "nbformat_minor": 4
}
